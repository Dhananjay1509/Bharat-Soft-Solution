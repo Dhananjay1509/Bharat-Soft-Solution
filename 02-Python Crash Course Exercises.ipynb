{
 "cells": [
  {
   "cell_type": "markdown",
   "metadata": {
    "id": "z_V_A8T_QJtp"
   },
   "source": [
    "___\n",
    "\n",
    "Mr. Yogesh P Murumkar (Mob. 9657080906)\n",
    "\n",
    "https://www.youtube.com/c/yogeshmurumkar\n",
    "___\n",
    "# Python Course Exercises 1\n",
    "\n",
    "This is an optional exercise to test your understanding of Python Basics. If you find this extremely challenging, then you probably are not ready for the rest of this course yet and don't have enough programming experience to continue. I would suggest you take another course more geared towards complete beginners."
   ]
  },
  {
   "cell_type": "markdown",
   "metadata": {
    "id": "xBGUpw8-QJtx"
   },
   "source": [
    "## Exercises\n",
    "\n",
    "Answer the questions or complete the tasks outlined in bold below, use the specific method described if applicable."
   ]
  },
  {
   "cell_type": "markdown",
   "metadata": {
    "id": "Tu4Ttsj0QJtz"
   },
   "source": [
    "** What is 7 to the power of 4?**"
   ]
  },
  {
   "cell_type": "code",
   "execution_count": 1,
   "metadata": {
    "colab": {
     "base_uri": "https://localhost:8080/"
    },
    "executionInfo": {
     "elapsed": 4,
     "status": "ok",
     "timestamp": 1649394640794,
     "user": {
      "displayName": "Dhanshri Patil",
      "userId": "02061507056400757161"
     },
     "user_tz": -330
    },
    "id": "cWIR4g_uQJt0",
    "outputId": "924f0698-72e6-4744-b4f6-b6d8e75102c1"
   },
   "outputs": [
    {
     "data": {
      "text/plain": [
       "2401"
      ]
     },
     "execution_count": 1,
     "metadata": {},
     "output_type": "execute_result"
    }
   ],
   "source": [
    "7**4"
   ]
  },
  {
   "cell_type": "markdown",
   "metadata": {
    "id": "9elwvS6QQJt3"
   },
   "source": [
    "** Split this string:**\n",
    "\n",
    "    s = \"Hi there Yogesh!\"\n",
    "    \n",
    "**into a list. **"
   ]
  },
  {
   "cell_type": "code",
   "execution_count": 2,
   "metadata": {
    "colab": {
     "base_uri": "https://localhost:8080/"
    },
    "executionInfo": {
     "elapsed": 691,
     "status": "ok",
     "timestamp": 1659335052870,
     "user": {
      "displayName": "vaishnavi gaurkar",
      "userId": "09494641570742533631"
     },
     "user_tz": -330
    },
    "id": "56HyQIsxQJt5",
    "outputId": "4bd92731-006b-4356-a869-22e634968eef"
   },
   "outputs": [
    {
     "data": {
      "text/plain": [
       "['Hello', \"I'm\", 'Dhananjay!']"
      ]
     },
     "execution_count": 2,
     "metadata": {},
     "output_type": "execute_result"
    }
   ],
   "source": [
    "s = \"Hello I'm Dhananjay!\"\n",
    "s.split()"
   ]
  },
  {
   "cell_type": "markdown",
   "metadata": {
    "id": "XAShUFRpQJt7"
   },
   "source": [
    "** Given the variables:**\n",
    "\n",
    "    planet = \"Earth\"\n",
    "    diameter = 12742\n",
    "\n",
    "** Use .format() to print the following string: **\n",
    "\n",
    "    The diameter of Earth is 12742 kilometers."
   ]
  },
  {
   "cell_type": "code",
   "execution_count": 3,
   "metadata": {
    "id": "LU3iNVUIQJt9"
   },
   "outputs": [
    {
     "name": "stdout",
     "output_type": "stream",
     "text": [
      "The diameter of Earth is 12742 kilometers.\n"
     ]
    }
   ],
   "source": [
    "planet = \"Earth\"\n",
    "diameter = 12742\n",
    "print(\"The diameter of {} is {} kilometers.\".format(planet, diameter))"
   ]
  },
  {
   "cell_type": "markdown",
   "metadata": {
    "id": "ughIjEVmQJuA"
   },
   "source": [
    "** Given this nested list, use indexing to grab the word \"hello\" **"
   ]
  },
  {
   "cell_type": "code",
   "execution_count": 4,
   "metadata": {
    "id": "CICK3SenQJuB"
   },
   "outputs": [],
   "source": [
    "lst = [1,2,[3,4],[5,[100,200,['hello']],23,11],1,7]"
   ]
  },
  {
   "cell_type": "code",
   "execution_count": 5,
   "metadata": {
    "id": "bzy0iB1gQJuD",
    "outputId": "21072807-abf1-4919-bf5e-d8c46d4d4648"
   },
   "outputs": [
    {
     "data": {
      "text/plain": [
       "['hello']"
      ]
     },
     "execution_count": 5,
     "metadata": {},
     "output_type": "execute_result"
    }
   ],
   "source": [
    "lst[3][1][2]"
   ]
  },
  {
   "cell_type": "markdown",
   "metadata": {
    "id": "KvZZ9uOAQJuD"
   },
   "source": [
    "** Given this nested dictionary grab the word \"hello\". Be prepared, this will be annoying/tricky **"
   ]
  },
  {
   "cell_type": "code",
   "execution_count": 6,
   "metadata": {
    "id": "6UYjb58KQJuE"
   },
   "outputs": [],
   "source": [
    "d = {'k1':[1,2,3,{'tricky':['oh','man','inception',{'target':[1,2,3,'hello']}]}]}"
   ]
  },
  {
   "cell_type": "code",
   "execution_count": 7,
   "metadata": {
    "id": "qEHcy_WhQJuE",
    "outputId": "3bed0670-8901-45f4-804f-4db1d7b256bc"
   },
   "outputs": [
    {
     "data": {
      "text/plain": [
       "'hello'"
      ]
     },
     "execution_count": 7,
     "metadata": {},
     "output_type": "execute_result"
    }
   ],
   "source": [
    "d[\"k1\"][3]['tricky'][3]['target'][3]"
   ]
  },
  {
   "cell_type": "markdown",
   "metadata": {
    "id": "2K65VtFZQJuF"
   },
   "source": [
    "** What is the main difference between a tuple and a list? **"
   ]
  },
  {
   "cell_type": "markdown",
   "metadata": {
    "id": "bybmMa7sQJuF"
   },
   "source": [
    "- A tuple is immutable (cannot be changed after creation), \n",
    "- while a list is mutable (can be modified)."
   ]
  },
  {
   "cell_type": "markdown",
   "metadata": {
    "id": "YlhiTKVdQJuG"
   },
   "source": [
    "** Create a function that grabs the email website domain from a string in the form: **\n",
    "\n",
    "    user@domain.com\n",
    "    \n",
    "**So for example, passing \"user@domain.com\" would return: domain.com**"
   ]
  },
  {
   "cell_type": "code",
   "execution_count": 8,
   "metadata": {
    "id": "97fbiFEDQJuH"
   },
   "outputs": [
    {
     "data": {
      "text/plain": [
       "'domain.com'"
      ]
     },
     "execution_count": 8,
     "metadata": {},
     "output_type": "execute_result"
    }
   ],
   "source": [
    "def fun1(email):\n",
    "    return email.split('@')[1]\n",
    "fun1(\"user@domain.com\")"
   ]
  },
  {
   "cell_type": "code",
   "execution_count": 9,
   "metadata": {
    "id": "Ntnzy8_WQJuH",
    "outputId": "fe2c3de2-9ff8-4f69-8c1a-67c8c27ad2c5"
   },
   "outputs": [
    {
     "data": {
      "text/plain": [
       "'domain.com'"
      ]
     },
     "execution_count": 9,
     "metadata": {},
     "output_type": "execute_result"
    }
   ],
   "source": [
    "def fun1():\n",
    "    email = \"abc@domain.com\" \n",
    "    return email.split('@')[-1]\n",
    "    \n",
    "fun1()"
   ]
  },
  {
   "cell_type": "markdown",
   "metadata": {
    "id": "gwiE_tcKQJuH"
   },
   "source": [
    "** Create a basic function that returns True if the word 'dog' is contained in the input string. Don't worry about edge cases like a punctuation being attached to the word dog, but do account for capitalization. **"
   ]
  },
  {
   "cell_type": "code",
   "execution_count": 10,
   "metadata": {
    "id": "D-R4e4EnQJuI"
   },
   "outputs": [],
   "source": [
    "def findDog(s):\n",
    "    return 'dog' in s.lower()"
   ]
  },
  {
   "cell_type": "code",
   "execution_count": 11,
   "metadata": {
    "id": "2b4jgFPOQJuI",
    "outputId": "a837ea6f-c68e-4314-e030-7345bacc86aa"
   },
   "outputs": [
    {
     "data": {
      "text/plain": [
       "True"
      ]
     },
     "execution_count": 11,
     "metadata": {},
     "output_type": "execute_result"
    }
   ],
   "source": [
    "findDog('Is there a dog here?')"
   ]
  },
  {
   "cell_type": "markdown",
   "metadata": {
    "id": "w3UV5uuaQJuJ"
   },
   "source": [
    "** Create a function that counts the number of times the word \"dog\" occurs in a string. Again ignore edge cases. **"
   ]
  },
  {
   "cell_type": "code",
   "execution_count": 12,
   "metadata": {
    "id": "5oMhr3-qQJuJ"
   },
   "outputs": [],
   "source": [
    "def countDog(s):\n",
    "    return s.lower().count('dog')"
   ]
  },
  {
   "cell_type": "code",
   "execution_count": 13,
   "metadata": {
    "id": "1HxTPIaLQJuJ",
    "outputId": "35354736-0d1b-40c2-e1d1-b973592381f9"
   },
   "outputs": [
    {
     "data": {
      "text/plain": [
       "2"
      ]
     },
     "execution_count": 13,
     "metadata": {},
     "output_type": "execute_result"
    }
   ],
   "source": [
    "countDog('This dog runs faster than the other Dog dude!')"
   ]
  },
  {
   "cell_type": "markdown",
   "metadata": {
    "id": "ncs1mE9SQJuK"
   },
   "source": [
    "** Use lambda expressions and the filter() function to filter out words from a list that don't start with the letter 's'. For example:**\n",
    "\n",
    "    seq = ['soup','dog','salad','cat','great']\n",
    "\n",
    "**should be filtered down to:**\n",
    "\n",
    "    ['soup','salad']"
   ]
  },
  {
   "cell_type": "code",
   "execution_count": 14,
   "metadata": {
    "id": "DFR_5vgPQJuL"
   },
   "outputs": [],
   "source": [
    "seq = ['soup','dog','salad','cat','great']"
   ]
  },
  {
   "cell_type": "code",
   "execution_count": 15,
   "metadata": {
    "id": "IbPc-SK-QJuL",
    "outputId": "d5bf04a1-c0a2-4fbf-bf3e-f3d68bf8ce6b"
   },
   "outputs": [
    {
     "data": {
      "text/plain": [
       "['soup', 'salad']"
      ]
     },
     "execution_count": 15,
     "metadata": {},
     "output_type": "execute_result"
    }
   ],
   "source": [
    "filter_word = list(filter(lambda seq:seq.startswith(\"s\"), seq))\n",
    "filter_word"
   ]
  },
  {
   "cell_type": "markdown",
   "metadata": {
    "id": "WZB9cYH-QJuM"
   },
   "source": [
    "### Final Problem\n",
    "**You are driving a little too fast, and a police officer stops you. Write a function\n",
    "  to return one of 3 possible results: \"No ticket\", \"Small ticket\", or \"Big Ticket\". \n",
    "  If your speed is 60 or less, the result is \"No Ticket\". If speed is between 61 \n",
    "  and 80 inclusive, the result is \"Small Ticket\". If speed is 81 or more, the result is \"Big    Ticket\". Unless it is your birthday (encoded as a boolean value in the parameters of the function) -- on your birthday, your speed can be 5 higher in all \n",
    "  cases. **"
   ]
  },
  {
   "cell_type": "code",
   "execution_count": 16,
   "metadata": {
    "id": "MF56ggOQQJuM"
   },
   "outputs": [],
   "source": [
    "def caught_speeding(speed, is_birthday):\n",
    "    concession = 5 if is_birthday else 0\n",
    "    if speed <= 60 + concession:\n",
    "        return \"No Ticket\"\n",
    "    elif speed >= 61 and speed <= 80 + concession:\n",
    "        return \"Small Ticket\"\n",
    "    else:\n",
    "        return \"Big Ticket\""
   ]
  },
  {
   "cell_type": "code",
   "execution_count": 17,
   "metadata": {
    "id": "3QU9IrRmQJuN",
    "outputId": "0faac5e7-eff4-4d99-8b41-235f65781276"
   },
   "outputs": [
    {
     "data": {
      "text/plain": [
       "'Small Ticket'"
      ]
     },
     "execution_count": 17,
     "metadata": {},
     "output_type": "execute_result"
    }
   ],
   "source": [
    "caught_speeding(81,True)"
   ]
  },
  {
   "cell_type": "code",
   "execution_count": 18,
   "metadata": {
    "id": "1lsXiwFSQJuO",
    "outputId": "c9e6eb99-73af-47c5-f22c-bf0d7c873afb"
   },
   "outputs": [
    {
     "data": {
      "text/plain": [
       "'Big Ticket'"
      ]
     },
     "execution_count": 18,
     "metadata": {},
     "output_type": "execute_result"
    }
   ],
   "source": [
    "caught_speeding(81,False)"
   ]
  },
  {
   "cell_type": "markdown",
   "metadata": {
    "id": "8Ckci1sCQJuO"
   },
   "source": [
    "Question\n",
    "Given a string print number num by extracting all the\n",
    "digits from the string as in string\n",
    "Print negative number if the first character in \n",
    "string is '-'\n",
    "eg.\n",
    "-123abcd should return -123,\n",
    "abcd456-->456,\n",
    "fdhfh78dsd89--->7889,\n",
    "-56dssd78-->-5678"
   ]
  },
  {
   "cell_type": "code",
   "execution_count": 19,
   "metadata": {},
   "outputs": [
    {
     "name": "stdout",
     "output_type": "stream",
     "text": [
      "-123\n",
      "123\n",
      "123\n"
     ]
    }
   ],
   "source": [
    "def extract_number_from_string(s):\n",
    "    sign = \"-\" if s[0] == \"-\" else \"\"\n",
    "    number = \"\".join(char for char in s if char.isdigit())\n",
    "    print(sign + number)\n",
    "\n",
    "extract_number_from_string(\"--123qwe\")\n",
    "extract_number_from_string(\"123-qwe-\")\n",
    "extract_number_from_string(\"1qaz2wsx3ed!@#$%^&*()\")"
   ]
  },
  {
   "cell_type": "markdown",
   "metadata": {
    "id": "Aoj2DERXQJuP"
   },
   "source": [
    "Q2\n",
    "WAP to check whether a number is palindrome or not on following conditions.\n",
    "1. take input number\n",
    "2. add number and its reverse\n",
    "3. check that number is palindrome or not,if not then sum and its reverse"
   ]
  },
  {
   "cell_type": "code",
   "execution_count": 21,
   "metadata": {},
   "outputs": [
    {
     "name": "stdin",
     "output_type": "stream",
     "text": [
      "Enter the Number:  12321\n"
     ]
    },
    {
     "name": "stdout",
     "output_type": "stream",
     "text": [
      "Palindrone is:  24642\n"
     ]
    }
   ],
   "source": [
    "n1=input(\"Enter the Number: \")\n",
    "n2=int(n1[::-1])\n",
    "n3=str(int(n1)+n2)\n",
    "while n3!=n3[::-1]:\n",
    "    n3=str(int(n3)+int(n3[::-1]))\n",
    "    print(\"Number is: \", n3)\n",
    "    print(\"Reverse is: \", n3[::-1])\n",
    "print(\"Palindrone is: \", n3)"
   ]
  },
  {
   "cell_type": "code",
   "execution_count": null,
   "metadata": {},
   "outputs": [],
   "source": []
  },
  {
   "cell_type": "markdown",
   "metadata": {
    "id": "82LZn3ZNQJuP"
   },
   "source": [
    "Write a python function to find and display the five \n",
    "digit number in which the first digit is two more than the second,\n",
    "the second digit is two more than the third,\n",
    "the fourth digit is two less than the third, \n",
    "and the last digit is two more than the fourth.\n",
    "The sum of the third, fourth and fifth digits equals the first.\n",
    "The sum of all the digits is 19\n"
   ]
  },
  {
   "cell_type": "code",
   "execution_count": 22,
   "metadata": {},
   "outputs": [
    {
     "name": "stdout",
     "output_type": "stream",
     "text": [
      "The five-digit number is: 75313\n"
     ]
    }
   ],
   "source": [
    "def find_five_digit():\n",
    "    for first in range(10):\n",
    "        for second in range(10):\n",
    "            for third in range(10):\n",
    "                for fourth in range(10):\n",
    "                    for fifth in range(10):\n",
    "                        if (first == second + 2 and\n",
    "                            second == third + 2 and\n",
    "                            fourth == third - 2 and\n",
    "                            fifth == fourth + 2 and\n",
    "                            (third + fourth + fifth == first) and\n",
    "                            (first + second + third + fourth + fifth == 19)):\n",
    "                           \n",
    "                            number = first * 10000 + second * 1000 + third * 100 + fourth * 10 + fifth * 1\n",
    "                            print(f\"The five-digit number is: {number}\")\n",
    "                            return\n",
    "                            \n",
    "find_five_digit()"
   ]
  },
  {
   "cell_type": "markdown",
   "metadata": {
    "id": "HQI8SaqWQJuR"
   },
   "source": [
    "# Great job!"
   ]
  },
  {
   "cell_type": "code",
   "execution_count": null,
   "metadata": {},
   "outputs": [],
   "source": []
  },
  {
   "cell_type": "code",
   "execution_count": null,
   "metadata": {},
   "outputs": [],
   "source": []
  }
 ],
 "metadata": {
  "colab": {
   "name": "02-Python Crash Course Exercises.ipynb",
   "provenance": []
  },
  "kernelspec": {
   "display_name": "Python 3 (ipykernel)",
   "language": "python",
   "name": "python3"
  },
  "language_info": {
   "codemirror_mode": {
    "name": "ipython",
    "version": 3
   },
   "file_extension": ".py",
   "mimetype": "text/x-python",
   "name": "python",
   "nbconvert_exporter": "python",
   "pygments_lexer": "ipython3",
   "version": "3.11.8"
  }
 },
 "nbformat": 4,
 "nbformat_minor": 4
}
