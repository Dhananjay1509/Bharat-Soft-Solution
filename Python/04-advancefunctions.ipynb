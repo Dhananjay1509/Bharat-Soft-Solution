{
 "cells": [
  {
   "cell_type": "markdown",
   "id": "aeace6cd",
   "metadata": {},
   "source": [
    "# Module 4: Advanced Functions Assignments\n",
    "## Lesson 4.1: Defining Functions"
   ]
  },
  {
   "cell_type": "markdown",
   "id": "68eff5f3-b946-4f57-b11e-ab911724b701",
   "metadata": {},
   "source": [
    "### Assignment 1: Fibonacci Sequence with Memoization\n",
    "\n",
    "Define a recursive function to calculate the nth Fibonacci number using memoization. Test the function with different inputs."
   ]
  },
  {
   "cell_type": "code",
   "execution_count": 1,
   "id": "75e9289f-5a2b-449f-a94a-8b5c025d1c40",
   "metadata": {},
   "outputs": [
    {
     "name": "stdout",
     "output_type": "stream",
     "text": [
      "1 : 1\n",
      "2 : 1\n",
      "3 : 2\n",
      "4 : 3\n",
      "5 : 5\n",
      "6 : 8\n",
      "7 : 13\n",
      "8 : 21\n",
      "9 : 34\n",
      "10 : 55\n"
     ]
    }
   ],
   "source": [
    "fibonacci_cache = {}\n",
    "\n",
    "def fibonacci(n):\n",
    "    if n in fibonacci_cache:\n",
    "        return fibonacci_cache[n]\n",
    "    if n == 1:\n",
    "        value = 1\n",
    "    elif n == 2:\n",
    "        value = 1\n",
    "    elif n > 2:\n",
    "        value = fibonacci(n-1) + fibonacci(n-2)\n",
    "\n",
    "    fibonacci_cache[n] = value\n",
    "    return value\n",
    "\n",
    "for n in range(1, 11):\n",
    "    print(n, \":\", fibonacci(n))\n",
    "\n",
    "# print(fibonacci_cache)"
   ]
  },
  {
   "cell_type": "markdown",
   "id": "03d99b6a-8b77-402d-a0bc-396707bdb5c8",
   "metadata": {},
   "source": [
    "### Assignment 2: Function with Nested Default Arguments\n",
    "\n",
    "Define a function that takes two arguments, a and b, where b is a dictionary with a default value of an empty dictionary. The function should add a new key-value pair to the dictionary and return it. Test the function with different inputs."
   ]
  },
  {
   "cell_type": "code",
   "execution_count": 2,
   "id": "47f97652-168c-44f6-a020-44ddb3866dfd",
   "metadata": {},
   "outputs": [
    {
     "name": "stdout",
     "output_type": "stream",
     "text": [
      "{1: 1}\n",
      "{1: 1, 2: 2}\n",
      "{4: 4, 3: 3}\n",
      "{1: 1, 2: 2, 5: 5}\n"
     ]
    }
   ],
   "source": [
    "def add_to_dict(a, b={}):\n",
    "    b[a] = a\n",
    "    return b\n",
    "    \n",
    "print(add_to_dict(1))         \n",
    "print(add_to_dict(2))         \n",
    "print(add_to_dict(3, {4: 4}))  \n",
    "print(add_to_dict(5))          "
   ]
  },
  {
   "cell_type": "markdown",
   "id": "bc10f563-d0fa-4eec-8c4a-773af6a7a484",
   "metadata": {},
   "source": [
    "### Assignment 3: Function with Variable Keyword Arguments\n",
    "\n",
    "Define a function that takes a variable number of keyword arguments and returns a dictionary containing only those key-value pairs where the value is an integer. Test the function with different inputs."
   ]
  },
  {
   "cell_type": "code",
   "execution_count": 3,
   "id": "15714b1b-4c59-479c-bcf2-032150d6b9de",
   "metadata": {},
   "outputs": [
    {
     "name": "stdout",
     "output_type": "stream",
     "text": [
      "{'a': 1, 'c': 3}\n",
      "{'x': 10, 'y': 20}\n",
      "{'age': 25}\n"
     ]
    }
   ],
   "source": [
    "def filter_integers(**kwargs):\n",
    "    return {key: value for key, value in kwargs.items() if isinstance(value, int)}\n",
    "\n",
    "print(filter_integers(a=1, b='hello', c=3, d=4.5))  \n",
    "print(filter_integers(x=10, y=20, z='text'))        \n",
    "print(filter_integers(name='Alice', age=25))       "
   ]
  },
  {
   "cell_type": "markdown",
   "id": "651b5aeb-0538-4655-8f2e-4bcffd5a1f67",
   "metadata": {},
   "source": [
    "### Assignment 4: Function with Callback\n",
    "\n",
    "Define a function that takes another function as a callback and a list of integers. The function should apply the callback to each integer in the list and return a new list with the results. Test with different callback functions."
   ]
  },
  {
   "cell_type": "code",
   "execution_count": 4,
   "id": "ec0392ea-c684-4859-aa58-03da9994e884",
   "metadata": {},
   "outputs": [
    {
     "name": "stdout",
     "output_type": "stream",
     "text": [
      "[2, 4, 6, 8, 10]\n",
      "[1, 4, 9, 16, 25]\n"
     ]
    }
   ],
   "source": [
    "def apply_callback(callback, numbers):\n",
    "    return [callback(i) for i in numbers]\n",
    "\n",
    "def double(x):\n",
    "    return x * 2\n",
    "\n",
    "def square(x):\n",
    "    return x ** 2\n",
    "\n",
    "numbers = [1, 2, 3, 4, 5]\n",
    "\n",
    "print(apply_callback(double, numbers))  \n",
    "print(apply_callback(square, numbers))  "
   ]
  },
  {
   "cell_type": "markdown",
   "id": "30f7594b-b2c0-47e9-a6a6-3601dc639b2d",
   "metadata": {},
   "source": [
    "### Assignment 5: Function that Returns a Function\n",
    "\n",
    "Define a function that returns another function. The returned function should take an integer and return its square. Test the returned function with different inputs."
   ]
  },
  {
   "cell_type": "code",
   "execution_count": 5,
   "id": "1bc38b3d-d914-42c2-acdc-88150107ec09",
   "metadata": {},
   "outputs": [
    {
     "name": "stdout",
     "output_type": "stream",
     "text": [
      "125\n"
     ]
    }
   ],
   "source": [
    "def get_cube():\n",
    "    return lambda x:x**3\n",
    "\n",
    "cube = get_cube()\n",
    "print(cube(5))"
   ]
  },
  {
   "cell_type": "markdown",
   "id": "867c5232-27be-41e0-9294-87da5fa4f14c",
   "metadata": {},
   "source": [
    "### Assignment 6: Function with Decorators\n",
    "\n",
    "Define a function that calculates the time taken to execute another function. Apply this decorator to a function that performs a complex calculation. Test the decorated function with different inputs."
   ]
  },
  {
   "cell_type": "code",
   "execution_count": 6,
   "id": "4859b8ec-57f4-4d7b-b8c5-d2a35a39dc2b",
   "metadata": {},
   "outputs": [
    {
     "name": "stdout",
     "output_type": "stream",
     "text": [
      "Time taken to execute complex_calculation: 0.0000039000005926936864852905273437500000 seconds\n",
      "Start time: 51386.0340286, End time: 51386.0340325\n",
      "285\n",
      "---------------------------------------------------------------------------------------------\n",
      "Time taken to execute complex_calculation: 0.0000041000021155923604965209960937500000 seconds\n",
      "Start time: 51386.0341846, End time: 51386.0341887\n",
      "2470\n"
     ]
    }
   ],
   "source": [
    "import time\n",
    "def timing_decorator(func):\n",
    "    def wrapper(*args, **kwargs):\n",
    "        start_time = time.perf_counter()  # High-resolution timer\n",
    "        result = func(*args, **kwargs)\n",
    "        end_time = time.perf_counter()\n",
    "        print(f\"Time taken to execute {func.__name__}: {end_time - start_time:.40f} seconds\")\n",
    "        print(f\"Start time: {start_time}, End time: {end_time}\")\n",
    "        return result\n",
    "    return wrapper\n",
    "\n",
    "@timing_decorator\n",
    "def complex_calculation(n):\n",
    "    total = 0\n",
    "    for i in range(n):\n",
    "        total += i ** 2  \n",
    "    return total\n",
    "\n",
    "print(complex_calculation(10))  \n",
    "print(\"---------------------------------------------------------------------------------------------\")\n",
    "print(complex_calculation(20)) "
   ]
  },
  {
   "cell_type": "markdown",
   "id": "21f53edd-f57e-4803-a786-b94b35142f09",
   "metadata": {},
   "source": [
    "### Assignment 7: Higher-Order Function for Filtering and Mapping\n",
    "\n",
    "Define a higher-order function that takes two functions, a filter function and a map function, along with a list of integers. The higher-order function should first filter the integers using the filter function and then apply the map function to the filtered integers. Test with different filter and map functions."
   ]
  },
  {
   "cell_type": "code",
   "execution_count": 7,
   "id": "de6f2b0d-48d5-424f-9257-a544994d5371",
   "metadata": {},
   "outputs": [
    {
     "name": "stdout",
     "output_type": "stream",
     "text": [
      "[4, 8, 12, 16]\n",
      "[16, 25, 36, 49, 64]\n"
     ]
    }
   ],
   "source": [
    "def filter_and_map(filter_fun, map_fun, int_list):\n",
    "    filtered = filter(filter_fun, int_list)\n",
    "    mapped = map(map_fun, filtered)\n",
    "    return list(mapped)\n",
    "\n",
    "filter_fun = lambda x: x % 2 == 0\n",
    "map_fun = lambda x: x * 2\n",
    "int_list = [1, 2, 3, 4, 5, 6, 7, 8]\n",
    "\n",
    "result = filter_and_map(filter_fun, map_fun, int_list)\n",
    "print(result)  \n",
    "\n",
    "filter_fun = lambda x: x > 3\n",
    "map_fun = lambda x: x ** 2\n",
    "int_list = [1, 2, 3, 4, 5, 6, 7, 8]\n",
    "\n",
    "result = filter_and_map(filter_fun, map_fun, int_list)\n",
    "print(result)  "
   ]
  },
  {
   "cell_type": "markdown",
   "id": "c8430e84-244e-4137-838b-57511472c095",
   "metadata": {},
   "source": [
    "### Assignment 8: Function Composition\n",
    "\n",
    "Define a function that composes two functions, f and g, such that the result is f(g(x)). Test with different functions f and g."
   ]
  },
  {
   "cell_type": "code",
   "execution_count": 8,
   "id": "35000bc7-0eaf-4bef-8db8-3e0450a71707",
   "metadata": {},
   "outputs": [
    {
     "data": {
      "text/plain": [
       "256"
      ]
     },
     "execution_count": 8,
     "metadata": {},
     "output_type": "execute_result"
    }
   ],
   "source": [
    "def compose(f, g):\n",
    "    return lambda x: f(g(x))\n",
    "\n",
    "compose(lambda x: x**x, lambda x: x + x)(2)"
   ]
  },
  {
   "cell_type": "markdown",
   "id": "fb15d7b9-ddef-44dc-8bc3-d4aeb6df08d2",
   "metadata": {},
   "source": [
    "### Assignment 9: Partial Function Application\n",
    "\n",
    "Use the functools.partial function to create a new function that multiplies its input by 2. Test the new function with different inputs."
   ]
  },
  {
   "cell_type": "code",
   "execution_count": 9,
   "id": "ae751b15-6f35-4c31-9870-c56a50272000",
   "metadata": {},
   "outputs": [
    {
     "name": "stdout",
     "output_type": "stream",
     "text": [
      "10\n",
      "20\n",
      "0\n"
     ]
    }
   ],
   "source": [
    "# from functools import partial\n",
    "# def multiply(x, y):\n",
    "#     return x * y\n",
    "\n",
    "# multiply_by_2 = functools.partial(multiply, 2)\n",
    "\n",
    "# print(multiply_by_2(5))\n",
    "# print(multiply_by_2(10)) \n",
    "# print(multiply_by_2(0))  \n",
    "\n",
    "from functools import partial\n",
    "\n",
    "def multiply(x, y):\n",
    "    return x * y\n",
    "\n",
    "multiply_by_2 = partial(multiply, 2)\n",
    "\n",
    "print(multiply_by_2(5))\n",
    "print(multiply_by_2(10))\n",
    "print(multiply_by_2(0))"
   ]
  },
  {
   "cell_type": "markdown",
   "id": "60ea630b-540b-4f53-9cd3-21c3a2f9c033",
   "metadata": {},
   "source": [
    "### Assignment 10: Function with Error Handling\n",
    "\n",
    "Define a function that takes a list of integers and returns their average. The function should handle any errors that occur (e.g., empty list) and return None in such cases. Test with different inputs."
   ]
  },
  {
   "cell_type": "code",
   "execution_count": 10,
   "id": "35ffd633-0df3-41fe-97e4-40f82bdd729f",
   "metadata": {},
   "outputs": [
    {
     "data": {
      "text/plain": [
       "'Empty List'"
      ]
     },
     "execution_count": 10,
     "metadata": {},
     "output_type": "execute_result"
    }
   ],
   "source": [
    "def fun(lst):\n",
    "    try:\n",
    "        return sum(lst)/len(lst)\n",
    "    except ZeroDivisionError:\n",
    "        # return None\n",
    "        return \"Empty List\"\n",
    "\n",
    "# func([1, 2, 3, 4, 5])\n",
    "fun([])"
   ]
  },
  {
   "cell_type": "markdown",
   "id": "38556b0e-54d4-4be4-841f-64eb9c3b8266",
   "metadata": {},
   "source": [
    "### Assignment 11: Function with Generators\n",
    "\n",
    "Define a function that generates an infinite sequence of Fibonacci numbers. Test by printing the first 10 numbers in the sequence."
   ]
  },
  {
   "cell_type": "code",
   "execution_count": 11,
   "id": "8dac5c17-9ec0-4141-93b2-0ae0d238c0d5",
   "metadata": {},
   "outputs": [
    {
     "name": "stdout",
     "output_type": "stream",
     "text": [
      "0\n",
      "1\n",
      "1\n",
      "2\n",
      "3\n",
      "5\n",
      "8\n",
      "13\n",
      "21\n",
      "34\n"
     ]
    }
   ],
   "source": [
    "def fun():\n",
    "    a, b = 0, 1\n",
    "    for _ in range (10):\n",
    "        print(a)\n",
    "        a, b = b, a+b\n",
    "    \n",
    "fun()   "
   ]
  },
  {
   "cell_type": "markdown",
   "id": "4006e478-e0cf-41b4-ae29-1b4ad9134cf1",
   "metadata": {},
   "source": [
    "### Assignment 12: Currying\n",
    "\n",
    "Define a curried function that takes three arguments, one at a time, and returns their product. Test the function by providing arguments one at a time.\n"
   ]
  },
  {
   "cell_type": "code",
   "execution_count": 12,
   "id": "b64d5121-23da-42d8-a9fa-b61dac593ef6",
   "metadata": {},
   "outputs": [
    {
     "name": "stdout",
     "output_type": "stream",
     "text": [
      "24\n"
     ]
    }
   ],
   "source": [
    "def curried_product(a):\n",
    "    def inner_b(b):\n",
    "        def inner_c(c):\n",
    "            return a * b * c\n",
    "        return inner_c\n",
    "    return inner_b\n",
    "result = curried_product(2)(3)(4)\n",
    "print(result) "
   ]
  },
  {
   "cell_type": "markdown",
   "id": "40f195ad-c870-415a-a462-403f804bbf70",
   "metadata": {},
   "source": [
    "### Assignment 13: Function with Context Manager\n",
    "\n",
    "Define a function that uses a context manager to write a list of integers to a file. The function should handle any errors that occur during file operations. Test with different lists.\n"
   ]
  },
  {
   "cell_type": "code",
   "execution_count": 13,
   "id": "38c8d70b-db9c-43d9-b2f7-c15585f4263a",
   "metadata": {},
   "outputs": [
    {
     "name": "stdout",
     "output_type": "stream",
     "text": [
      "Successfully written to numbers.txt\n",
      "Successfully written to numbers.txt\n"
     ]
    }
   ],
   "source": [
    "from typing import List\n",
    "def write_integers_to_file(filename: str, integers: List[int]):\n",
    "    try:\n",
    "        with open(filename, 'w') as file:\n",
    "            for integer in integers:\n",
    "                file.write(f\"{integer}\\n\")\n",
    "        print(f\"Successfully written to {filename}\")\n",
    "    except Exception as e:\n",
    "        print(f\"An error occurred: {e}\")\n",
    "\n",
    "write_integers_to_file('numbers.txt', [1, 2, 3, 4, 5])\n",
    "write_integers_to_file('numbers.txt', [10, 20, 30])"
   ]
  },
  {
   "cell_type": "markdown",
   "id": "9b02ff0e-a804-4c76-b77c-1e551637884e",
   "metadata": {},
   "source": [
    "### Assignment 14: Function with Multiple Return Types\n",
    "\n",
    "Define a function that takes a list of mixed data types (integers, strings, and floats) and returns three lists: one containing all the integers, one containing all the strings, and one containing all the floats. Test with different inputs."
   ]
  },
  {
   "cell_type": "code",
   "execution_count": 14,
   "id": "cefeb095-ff8c-4be9-9a00-2a71c11e6e98",
   "metadata": {
    "scrolled": true
   },
   "outputs": [
    {
     "data": {
      "text/plain": [
       "([23, 23], ['Dhananjay', 'Monish', 'Pranav'], [22.25])"
      ]
     },
     "execution_count": 14,
     "metadata": {},
     "output_type": "execute_result"
    }
   ],
   "source": [
    "def group_by_type(lst):\n",
    "    integers, strings, floats = [], [], []\n",
    "    for item in lst:\n",
    "        if isinstance(item, int):\n",
    "            integers.append(item)\n",
    "        elif isinstance(item, str):\n",
    "            strings.append(item)\n",
    "        elif isinstance(item, float):\n",
    "            floats.append(item)\n",
    "    return integers, strings, floats\n",
    "\n",
    "group_by_type([\"Dhananjay\", 22.25, \"Monish\", 23, \"Pranav\", 23])    "
   ]
  },
  {
   "cell_type": "markdown",
   "id": "c44015e0-dd59-4f6b-8a62-2832129b59e1",
   "metadata": {},
   "source": [
    "### Assignment 15: Function with State\n",
    "\n",
    "Define a function that maintains state between calls using a mutable default argument. The function should keep track of how many times it has been called. Test by calling the function multiple times."
   ]
  },
  {
   "cell_type": "code",
   "execution_count": 15,
   "id": "85209d50-a4e0-4fe0-b18b-bc79aacb3a67",
   "metadata": {},
   "outputs": [
    {
     "name": "stdout",
     "output_type": "stream",
     "text": [
      "1\n",
      "2\n",
      "3\n"
     ]
    }
   ],
   "source": [
    "def counter(count=[0]):\n",
    "    count[0] += 1\n",
    "    return count[0]\n",
    "\n",
    "# Test the function\n",
    "print(counter())  # Output: 1\n",
    "print(counter())  # Output: 2\n",
    "print(counter())  # Output: 3"
   ]
  },
  {
   "cell_type": "code",
   "execution_count": null,
   "id": "55a13c2d-6baf-4d78-858f-53cdeff5c614",
   "metadata": {},
   "outputs": [],
   "source": []
  }
 ],
 "metadata": {
  "kernelspec": {
   "display_name": "Python 3 (ipykernel)",
   "language": "python",
   "name": "python3"
  },
  "language_info": {
   "codemirror_mode": {
    "name": "ipython",
    "version": 3
   },
   "file_extension": ".py",
   "mimetype": "text/x-python",
   "name": "python",
   "nbconvert_exporter": "python",
   "pygments_lexer": "ipython3",
   "version": "3.11.8"
  }
 },
 "nbformat": 4,
 "nbformat_minor": 5
}
