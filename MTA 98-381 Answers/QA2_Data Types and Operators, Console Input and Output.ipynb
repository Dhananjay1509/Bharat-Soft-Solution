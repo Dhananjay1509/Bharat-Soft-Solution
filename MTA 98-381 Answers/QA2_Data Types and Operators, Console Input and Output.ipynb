{
 "cells": [
  {
   "cell_type": "raw",
   "id": "723e6d25-edb2-43f9-bd5f-17c5045f9680",
   "metadata": {},
   "source": [
    "Question 1: Which expression evaluates to 4?\n",
    "\n",
    "Options:\n",
    "A. 7 - 2 * 3\n",
    "B. 7 // 2 - 3\n",
    "C. 7 / 2 - 3\n",
    "D. 7 % 2 + 3\n",
    "\n",
    "Answer: D. 7 % 2 + 3 (Justification: 7 % 2 equals 1, and 1 + 3 equals 4.)"
   ]
  },
  {
   "cell_type": "raw",
   "id": "24b3a583-2374-4a53-9754-ef6a3139c2d3",
   "metadata": {},
   "source": [
    "# Question 2: Consider the code\n",
    "from sys import argv  \n",
    "sum = 0  \n",
    "for i in range(2, len(argv)):  \n",
    "    sum += float(argv[i])  \n",
    "print(\"The Average for {0} is {1:.2f}\".format(argv[1], sum / (len(argv) - 2)))  "
   ]
  },
  {
   "cell_type": "raw",
   "id": "4ad12f5c-6ab7-46d3-a736-65eb5ce12d30",
   "metadata": {},
   "source": [
    "Which of the following command invocations will generate the output:\n",
    "\"The Average for Sachin is 20.00\"?\n",
    "\n",
    "Options:\n",
    "A) py test.py Sachin 10 20 30\n",
    "B) py test.py Sachin 10\n",
    "C) py test.py 20\n",
    "D) py test.py Sachin 10 20\n",
    "\n",
    "Answer: A) py test.py Sachin 10 20 30\n",
    "\n",
    "Justification: Only this invocation provides the required arguments, ensuring the average calculation ((10+20+30)/3 = 20.00)."
   ]
  },
  {
   "cell_type": "raw",
   "id": "1809eed7-a3a0-49fa-9ecd-f7bd37c55f15",
   "metadata": {},
   "source": [
    "# Question 3: Consider the code\n",
    "from sys import argv\n",
    "sum = 0\n",
    "for i in range(2, len(argv)):\n",
    "    sum += float(argv[i])\n",
    "print(\"The Average for {0} is {1:.2f}\".format(argv[1], sum / (len(argv) - 2)))"
   ]
  },
  {
   "cell_type": "raw",
   "id": "968b8e30-5a2f-40f0-acdb-479258a0178d",
   "metadata": {},
   "source": [
    "Which of the following command invocations will generate the output:\n",
    "\"The Average for Durga is 20.00\"?\n",
    "\n",
    "Options:\n",
    "\n",
    "py test.py Durga 10 20 30\n",
    "py test.py Durga 10\n",
    "py test.py 20\n",
    "py test.py Durga 10 20\n",
    "Answer: 1. py test.py Durga 10 20 30\n",
    "\n",
    "Justification: This command correctly calculates the average (10+20+30)/3 and matches the format required in the print statement."
   ]
  },
  {
   "cell_type": "raw",
   "id": "33ee2a5f-811f-4549-ae95-a6e5d5cb7aa2",
   "metadata": {},
   "source": [
    "Question 4: Consider the code\n",
    "\n",
    "x=3\n",
    "x+=1\n",
    "#Line=1\n",
    "\n",
    "Which line should be inserted at Line-1 so that the value of x becomes 16?\n",
    "\n",
    "Options:\n",
    "A) x **= 2\n",
    "B) x *= 2\n",
    "C) x += 2\n",
    "D) x -= 2\n",
    "Answer: A) x **= 2 (Correct because squaring x makes it 16)."
   ]
  },
  {
   "cell_type": "raw",
   "id": "a0e2a0a7-38f6-400f-8db4-819a09164409",
   "metadata": {},
   "source": [
    "Question 5: Consider the code\n",
    "\n",
    "print(type(input('Enter some value:')))\n",
    "\n",
    "What is the output of the following code if we enter 10 and 10.0 individually for every run?\n",
    "\n",
    "Options:\n",
    "\n",
    "<class 'float'>\n",
    "<class 'float'>\n",
    "\n",
    "<class 'int'>\n",
    "<class 'float'>\n",
    "\n",
    "<class 'int'>\n",
    "<class 'int'>\n",
    "\n",
    "<class 'str'>\n",
    "<class 'str'>\n",
    "Answer: 4.  <class 'str'>\n",
    "            <class 'str'>\n",
    "\n",
    "Justification: The input() function always returns a value as a string, regardless of whether the input looks like an integer or a float."
   ]
  },
  {
   "cell_type": "raw",
   "id": "1ec92493-dbe6-4ef1-9f12-16f17544df0c",
   "metadata": {},
   "source": [
    "# Question 6: Consider the Python code:\n",
    "a = ['a', 'b', 'c', 'd']  \n",
    "for i in a:  \n",
    "    a.append(i.upper())  \n",
    "print(a)"
   ]
  },
  {
   "cell_type": "raw",
   "id": "84839ca1-2998-400e-bc91-351009be6561",
   "metadata": {},
   "source": [
    "What is the result?\n",
    "\n",
    "Options:\n",
    "A) SyntaxError\n",
    "B) MemoryError thrown at runtime\n",
    "C) ['A', 'B', 'C', 'D']\n",
    "D) ['a', 'b', 'c', 'd']\n",
    "\n",
    "Answer:\n",
    "B) MemoryError thrown at runtime - Justification: The list a keeps growing as i.upper() is appended indefinitely, leading to an infinite loop and eventually a MemoryError."
   ]
  },
  {
   "cell_type": "markdown",
   "id": "9e0ee735-7234-4e55-b792-10d21b5b3cc5",
   "metadata": {},
   "source": [
    "Question 7: Consider the variable declarations:\n",
    "a='5'\n",
    "b='2'\n",
    "Which of the following expressions are of type str based on the variable declarations?\n",
    "\n",
    "Options:\n",
    "a * b\n",
    "a * 2\n",
    "a + b\n",
    "a - b\n",
    "\n",
    "Answer:\n",
    "Option 3: a + b is of type str because both a and b are strings.\n",
    "Option 2: a * 2 is of type str because multiplying a string by an integer results in that string repeated."
   ]
  },
  {
   "cell_type": "raw",
   "id": "fb03e33f-7855-49ea-982e-d23df10a6faa",
   "metadata": {},
   "source": [
    "Question 8: Consider the following code:\n",
    "\n",
    "print(type(eval(input('Enter some value:'))))\n",
    "What will be the output when we enter 10 and 10.0 individually for each run?\n",
    "\n",
    "Options:\n",
    "\n",
    "<class 'int'>\n",
    "<class 'int'>\n",
    "\n",
    "<class 'str'>\n",
    "<class 'str'>\n",
    "\n",
    "<class 'int'>\n",
    "<class 'float'>\n",
    "\n",
    "<class 'float'>\n",
    "<class 'float'>\n",
    "\n",
    "Answer: Option 3\n",
    "<class 'int'> for 10\n",
    "<class 'float'> for 10.0\n",
    "\n",
    "Justification:\n",
    "The eval() function evaluates the input as Python code, so 10 becomes an int and 10.0 becomes a float."
   ]
  },
  {
   "cell_type": "raw",
   "id": "48576106-4cf8-4a91-b35f-49ae7d16c3cb",
   "metadata": {},
   "source": [
    "Question 9: Consider the code\n",
    "\n",
    "a=7\n",
    "b=3\n",
    "c=5\n",
    "d=1\n",
    "\n",
    "Which line of the code assigns 9 to the output?\n",
    "\n",
    "Options:\n",
    "\n",
    "output = a % c + 1\n",
    "output = a + d * 2 \n",
    "output = a + c // d\n",
    "output = c * d - 1\n",
    "Answer:\n",
    "Option 2: output = a + d * 2 assigns 9 because a + d * 2 = 7 + 1 * 2 = 9."
   ]
  },
  {
   "cell_type": "raw",
   "id": "fbb65c02-fe0b-408f-8eaf-749b96955394",
   "metadata": {},
   "source": [
    "Question 9: Consider the following code\n",
    "\n",
    "from sys import argv\n",
    "print(argv[0])\n",
    "\n",
    "And the command invocation:\n",
    "\n",
    "py test.py BHARATSOFT\n",
    "What is the result?\n",
    "\n",
    "Options:\n",
    "a) ImportError will be thrown at runtime\n",
    "b) test.py\n",
    "c) IndexError will be thrown at runtime\n",
    "d) BHARATSOFT\n",
    "\n",
    "Answer:\n",
    "b) test.py – The first element of argv is always the script name, which is test.py."
   ]
  },
  {
   "cell_type": "raw",
   "id": "1648e576-ec84-4036-8b11-e2b3161b87c2",
   "metadata": {},
   "source": [
    "Question 10: What is the result of the expression:\n",
    "6//4%5+2**3-2//3?\n",
    "This expression result to:\n",
    "Options:\n",
    "A) 9\n",
    "B) -1\n",
    "C) 25\n",
    "D) 3\n",
    "\n",
    "Answer:\n",
    "A) 9 – The expression evaluates as follows: 6//4 = 1, 1%5 = 1, 2**3 = 8, 2//3 = 0, so 1 + 8 - 0 = 9."
   ]
  },
  {
   "cell_type": "raw",
   "id": "425452f2-b7fd-48ff-b050-e829a5716e50",
   "metadata": {},
   "source": [
    "Question 11: Which line of the code will assign 'TT' to the output?\n",
    "x='TEXT'\n",
    "\n",
    "Options:\n",
    "a) output = x[0] + x[-1] \n",
    "b) output = x[0] + x[2]\n",
    "c) output = x[1] + x[1] \n",
    "d) output = x[1] + x[4]\n",
    "\n",
    "Answer:\n",
    "a) output = x[0] + x[-1] (Correct) – it concatenates the first and last characters ('T' + 'T')."
   ]
  },
  {
   "cell_type": "raw",
   "id": "6a0b3a3a-06de-4b16-928a-0b008529632f",
   "metadata": {},
   "source": [
    "Question 12: What is the result of the following Python code?\n",
    "\n",
    "print(10==10 and 20!=20)\n",
    "print(10==10 or 20!=20)\n",
    "print(not 10==10)\n",
    "\n",
    "Options:\n",
    "A) False\n",
    "   True\n",
    "   False\n",
    "\n",
    "B) False\n",
    "   False\n",
    "   False\n",
    "\n",
    "C) False\n",
    "   True\n",
    "   True\n",
    "\n",
    "D) True\n",
    "   True\n",
    "   False\n",
    "\n",
    "Answer:\n",
    "\n",
    "A) False\n",
    "   True\n",
    "   False\n",
    "\n",
    "Justification:\n",
    "The first expression is False due to 20!=20, the second is True as the or condition is met, and the third is False since 10==10 is True and not negates it."
   ]
  },
  {
   "cell_type": "raw",
   "id": "d7fb2ec5-f923-464a-bf9d-de839033bb85",
   "metadata": {},
   "source": [
    "Question 13: Consider the code\n",
    "\n",
    "a = float('123.456')\n",
    "Which expression evaluates to 2?\n",
    "\n",
    "Options:\n",
    "A) bool(a)\n",
    "B) int(a) + False\n",
    "C) str(a)\n",
    "D) bool(a) + True\n",
    "\n",
    "Answer:\n",
    "D) bool(a) + True\n",
    "Justification: bool(a) evaluates to True (1), and adding True (1) results in 2."
   ]
  },
  {
   "cell_type": "raw",
   "id": "be38cc61-6e44-406d-805b-127a6d7b6638",
   "metadata": {},
   "source": [
    "Question 14:\n",
    "You are an intern for XYZ Cars Company. You have to create a function that calculates the average velocity of a vehicle on a 2640-foot (1/2 mile) track. \n",
    "\n",
    "Consider the Python code below.\n",
    "\n",
    "distance = xxx(input('Enter the distance travelled in feet:'))  # Line-1  \n",
    "distance_miles = distance / 5280  \n",
    "time = yyy(input('Enter the time elapsed in seconds:'))  # Line-2  \n",
    "time_hours = time / 3600  \n",
    "velocity = distance_miles / time_hours  \n",
    "print('The average Velocity:', velocity, 'miles/hour')  \n",
    "\n",
    "To generate the most precise output, which modifications should be made at Line-1 and Line-2?\n",
    "\n",
    "Options:\n",
    "xxx should be replaced with int and yyy should be replaced with float\n",
    "xxx should be replaced with float and yyy should be replaced with int\n",
    "xxx should be replaced with int and yyy should be replaced with int\n",
    "xxx should be replaced with float and yyy should be replaced with float\n",
    "\n",
    "Answer:\n",
    "Option 4: xxx should be replaced with float and yyy should be replaced with float because the distance can be a decimal, and time elapsed is also commonly represented as a float for accuracy."
   ]
  },
  {
   "cell_type": "raw",
   "id": "e23615f0-e194-41a6-9006-f795f7b390c1",
   "metadata": {},
   "source": [
    "Question 15: The XYZ Company has hired you as an intern on the coding team that creates a e- commerce application. You must write a script that asks the user for a value. The value must be used as a whole number in a calculation, even if the user enters a decimal value.\n",
    "\n",
    "Which of the following meets this requirement?\n",
    "\n",
    "Options:\n",
    "A) total_items = str(input('How many items you required?'))\n",
    "B) total_items = float(input('How many items you required?')) \n",
    "C) total_items = int(float(input('How many items you required?')))\n",
    "D) total_items = input('How many items you required?')\n",
    "\n",
    "Answer:\n",
    "C) total_items = int(float(input('How many items you required?'))), because it first converts the input to a float (for decimal values) and then to an integer (to ensure a whole number).\n"
   ]
  },
  {
   "cell_type": "raw",
   "id": "7f1c4a6a-085e-48b2-a48d-1b5c7bfb8433",
   "metadata": {},
   "source": [
    "Question 16: In which of the following cases, True will be printed to the console?\n",
    "\n",
    "A) print('r' in 'durga')\n",
    "\n",
    "B) a=45\n",
    "   b=45\n",
    "   print(a is not b)\n",
    "\n",
    "C) s1=The 'Python Course'\n",
    "   s2=The 'Python Course'.upper()\n",
    "   print(s1 is s2)\n",
    "\n",
    "D) print('is' in 'This IS a Fake News')\n",
    "\n",
    "E) x=[1,2,3]\n",
    "   y=[1,2,3]\n",
    "   print(x is y)\n",
    "\n",
    "Answer:\n",
    "\n",
    "A) True: 'r' is present in 'durga'.\n",
    "D) True: 'is' is a substring of 'This IS a Fake News'."
   ]
  },
  {
   "cell_type": "code",
   "execution_count": 1,
   "id": "3baa9948-f0b0-4495-b843-89ef6d96729f",
   "metadata": {},
   "outputs": [
    {
     "name": "stdout",
     "output_type": "stream",
     "text": [
      "10\n"
     ]
    }
   ],
   "source": [
    "# Question 17: Consider the code\n",
    "\n",
    "x=2\n",
    "y=6\n",
    "x+=2**3\n",
    "x//=y//2//3\n",
    "print(x)\n",
    "\n",
    "# What is the output?\n",
    "# 7\n",
    "# 10\n",
    "# 9\n",
    "# 0"
   ]
  },
  {
   "cell_type": "raw",
   "id": "8324be49-b59d-494f-ad67-58c4967d3059",
   "metadata": {},
   "source": [
    "Question 18: Given the command invocation:\n",
    "\n",
    "py test.py Durga\n",
    "\n",
    "Which of the following code prints 'Durga' to the console?\n",
    "\n",
    "Options:\n",
    "\n",
    "from sys import argv; print(argv[1])\n",
    "from sys import args; print(args[1])\n",
    "from sys import argy; print(argv[0])\n",
    "from sys import argy; print(args[0])\n",
    "\n",
    "Answer: 1. from sys import argv; print(argv[1])\n",
    "Justification: argv from sys is the correct attribute to access command-line arguments, and argv[1] represents the first argument after the script name."
   ]
  },
  {
   "cell_type": "raw",
   "id": "eaa383a9-10b2-4d94-804f-249de5bfc1ec",
   "metadata": {},
   "source": [
    "Question 19: If the user enters 12345 as input, Which of the following code will print 12346 to the console?\n",
    "\n",
    "count=int(input('Enter count value: \"))\n",
    "print(count+1)\n",
    "\n",
    "count=eval(input(\"Enter count value:'))\n",
    "print(count+1)\n",
    "\n",
    "count=input('Enter count value:')\n",
    "print(count+1)\n",
    "\n",
    "count=input('Enter count value:')\n",
    "print(int(count)+1)\n",
    "\n",
    "Answer: A, B, D\n",
    "\n",
    "Justification: Options A and B both correctly convert the input to an integer (despite A's typo) or evaluate it for arithmetic, and D uses int() explicitly to convert the input string before adding 1. Option C fails because it tries to add 1 to a string, which raises a TypeError."
   ]
  },
  {
   "cell_type": "raw",
   "id": "c0c6ab18-4e64-4ab6-b5d5-aee1b5b898da",
   "metadata": {},
   "source": [
    "Question 20: Consider the code\n",
    "\n",
    "t=([10,20], 10, False)\n",
    "\n",
    "Which line of the code assigns <class 'list'> to x?\n",
    "\n",
    "Options:\n",
    "A) x = type(t[1])\n",
    "B) x = type(t[0:]) \n",
    "C) x = type(t[0]) \n",
    "D) x = type(t)\n",
    "\n",
    "Answer:\n",
    "C) x = type(t[0]) - This assigns <class 'list'> to x because t[0] is a list."
   ]
  },
  {
   "cell_type": "raw",
   "id": "6fd1fa4f-b6df-491e-94dd-1963ad28ad7b",
   "metadata": {},
   "source": [
    "Question 21:Which expression would evaluate to 2?\n",
    "\n",
    "Options:\n",
    "A) 11/2\n",
    "B) 22%5\n",
    "C) 13/14\n",
    "D) 3**2\n",
    "\n",
    "Answer:\n",
    "B) 22%5 (The modulus of 22 divided by 5 is 2)"
   ]
  },
  {
   "cell_type": "raw",
   "id": "978d2ce8-3ae6-4f37-bd38-130545dabd17",
   "metadata": {},
   "source": [
    "Question 22:What is the output of the following code?\n",
    "\n",
    "x = 3/3 + 3**3 - 3\n",
    "print(x)\n",
    "\n",
    "Options:\n",
    "A) 25.0\n",
    "B) 32 \n",
    "C) 0.11\n",
    "D) 25 \n",
    "\n",
    "Answer:\n",
    "A) 25.0 — The expression evaluates to 1 + 27 - 3 = 25.0, as division takes precedence over addition and subtraction."
   ]
  },
  {
   "cell_type": "raw",
   "id": "22c2ba42-1171-42f4-bc3d-0b2cbe37528d",
   "metadata": {},
   "source": [
    "Question 23: Consider the Python code:\n",
    "\n",
    "result = str(bool(1) * float(10) / float(2))\n",
    "print(result)\n",
    "\n",
    "Options:\n",
    "a) 6.0\n",
    "b) TypeError\n",
    "c) SyntaxError\n",
    "d) 6\n",
    "\n",
    "Answer:\n",
    "a) 6.0 — The code first evaluates bool(1) as True (which is 1), then performs 1 * float(10) / float(2), resulting in 5.0, and finally converts it to a string, printing '6.0'."
   ]
  },
  {
   "cell_type": "raw",
   "id": "c062cfe7-9866-48ab-8c23-0ff00ea5c625",
   "metadata": {},
   "source": [
    "Question 24: Consider the code:\n",
    "\n",
    "from sys import argv\n",
    "print(argv[1]+argv[2])\n",
    "\n",
    "And given the command invocation:\n",
    "py test.py 10 20\n",
    "What is the result?\n",
    "\n",
    "Options:\n",
    "30\n",
    "ImportError will be thrown at runtime\n",
    "1020\n",
    "IndexError will be thrown at runtime\n",
    "\n",
    "Answer:\n",
    "3. 1020\n",
    "Justification: argv[1] and argv[2] are treated as strings, so concatenating them results in \"1020\"."
   ]
  },
  {
   "cell_type": "raw",
   "id": "6a96ab53-15c5-4bb4-a57c-69fbc2272961",
   "metadata": {},
   "source": [
    "Question 25: What code should be written at Line-1 to accept input from the user in the given Python code?\n",
    "\n",
    "Options:\n",
    "\n",
    "name=input()\n",
    "input(name)\n",
    "input('name')\n",
    "name = input('name')\n",
    "Answer: 4. name = input('name')\n",
    "Justification: This code correctly prompts the user for input with the message \"name\" and assigns the input to the variable name."
   ]
  },
  {
   "cell_type": "raw",
   "id": "10e9e102-959c-4b4e-bdbd-93d378432b28",
   "metadata": {},
   "source": [
    "Question 26: Which of the following is valid?\n",
    "\n",
    "A) type('') is <class 'bool'>\n",
    "B) True and False evaluates to False \n",
    "C) True or False evaluates to False\n",
    "D) 5 + False evaluates to Fame\n",
    "E) True + 1 evaluates to 2\n",
    "\n",
    "Justification:\n",
    "Option B is correct as True and False results in False.\n",
    "Option E is correct because True + 1 results in 2 (since True is treated as 1 in arithmetic operations)."
   ]
  },
  {
   "cell_type": "raw",
   "id": "24355473-f994-4c9b-8716-3a27bc8cd750",
   "metadata": {},
   "source": [
    "Question 27: What is the result of the following code?\n",
    "\n",
    "print(not 0)\n",
    "print(not 10)\n",
    "print(not '')\n",
    "print(not 'durga')\n",
    "print(not None)\n",
    "\n",
    "Options:\n",
    "a) True, False, False, False, True\n",
    "b) True, False, True, False, True\n",
    "c) True, False, True, False, False\n",
    "d) False, False, True, False, True\n",
    "\n",
    "Answer: b) True, False, True, False, True (Justification: not returns True for falsy values like 0, '', and None; otherwise, it returns False.)"
   ]
  },
  {
   "cell_type": "markdown",
   "id": "ed3dc8ac-fbbe-4b8d-a517-01ae9025b054",
   "metadata": {},
   "source": [
    "Question 28: What is the output of the following Python code?\n",
    "\n",
    "11 = ['sunny', 'bunny', 'chinny', 'vinny']\n",
    "12 = ['sunny', \"bunny\", 'chinny', \"gny\"]\n",
    "print(l1 is not l2)\n",
    "print(l1 != l2)\n",
    "l1 = l2\n",
    "print(l1 is not l2)\n",
    "print(l1 != l2)\n",
    "\n",
    "Options: \n",
    "a) True, false, True, False\n",
    "b) True, True, False, False\n",
    "c) True, False, False, True\n",
    "d) True, False, False, False\n",
    "\n",
    "Answer: d) True, False, False, False\n",
    "Justification: Initially, l1 and l2 are different objects (is not returns True), but they have different values (!= returns False). After assigning l1 = l2, they refer to the same object, making both is not and != return False."
   ]
  },
  {
   "cell_type": "code",
   "execution_count": 2,
   "id": "89857475-b3f3-4505-a20b-7f64d2ffbc70",
   "metadata": {},
   "outputs": [
    {
     "name": "stdout",
     "output_type": "stream",
     "text": [
      "<class 'int'>\n",
      "<class 'str'>\n",
      "<class 'float'>\n",
      "<class 'complex'>\n"
     ]
    }
   ],
   "source": [
    "# Question 29: In which of the following cases we will get <class 'int'> as output?\n",
    "\n",
    "x=2**2**2\n",
    "print(type(x))\n",
    "\n",
    "x='47'\n",
    "print(type(x))\n",
    "\n",
    "x=47.0\n",
    "print(type(x))\n",
    "\n",
    "x=10+20j\n",
    "print(type(x))"
   ]
  },
  {
   "cell_type": "raw",
   "id": "1b53ba23-7690-47b9-8439-c6b0bd4065dc",
   "metadata": {},
   "source": [
    "Question 30: Consider the code:\n",
    "s='DURGA SOFT'\n",
    "Which of the following lines will assign 9 to variable result?\n",
    "\n",
    "Options:\n",
    "result = len(s.lstrip())\n",
    "result = len(s)\n",
    "result = len(s.rstrip())\n",
    "result = len(s.strip())\n",
    "result = len(s.replace(' ',''))\n",
    "\n",
    "Answer: Option 5 (result = len(s.replace(' ',''))) because it removes the space, leaving only 9 characters."
   ]
  },
  {
   "cell_type": "raw",
   "id": "9616f852-f440-47b8-8870-c6d387efd332",
   "metadata": {},
   "source": [
    "Question 31:\n",
    "From the sys module, by using which variable can we access command line arguments?\n",
    "\n",
    "Options:\n",
    "a) arguments\n",
    "b) argsv\n",
    "c) args\n",
    "d) argv\n",
    "\n",
    "Answer:\n",
    "d) argv — The argv variable holds command line arguments as a list.\n"
   ]
  },
  {
   "cell_type": "markdown",
   "id": "80df5d78-46ec-4dc6-aa73-c2e4b0ba4a4c",
   "metadata": {},
   "source": [
    "Question 32: Consider the variable declaration \n",
    "b = \"BANANA\". \n",
    "Which of the following lines will print 'AA' to the console?\n",
    "\n",
    "Options:\n",
    "A) print(b[3]+b[5]) \n",
    "B) print(b[1]+b[5]) \n",
    "C) print(b[1]+b[2])\n",
    "D) print(b[1]+b[3]) \n",
    "\n",
    "Answer: A, B, D. These options access indices that correspond to the letter 'A' in \"BANANA\"."
   ]
  },
  {
   "cell_type": "raw",
   "id": "02ac964b-f6d1-4478-8c0a-363a36205b44",
   "metadata": {},
   "source": [
    "Question 33: What will be the result of the following Python code?\n",
    "\n",
    "l1=['sunny', 'bunny', 'chinny', 'vinny']\n",
    "l2=['sunny', 'bunny', 'chinny', 'vinny']\n",
    "print(l1 is l2)\n",
    "print(l1 == l2)\n",
    "l1=l2\n",
    "print(l1 is l2)\n",
    "print(l1==l2)\n",
    "\n",
    "Options:\n",
    "A) False, False, True, True\n",
    "B) False, True, False, True\n",
    "C) False, True, True, False\n",
    "D) False, True, True, True\n",
    "\n",
    "Answer: D) False, True, True, True\n",
    "\n",
    "Justification: is checks object identity (False initially as l1 and l2 are different objects), == checks value equality (True as both lists have the same content), and after l1 = l2, both point to the same object, making is and == True."
   ]
  },
  {
   "cell_type": "raw",
   "id": "d0b389f0-c82f-41d9-9732-ce388dcb5ee8",
   "metadata": {},
   "source": [
    "Question 34: Consider the following code:\n",
    "\n",
    "v1 = 1  \n",
    "v2 = 0  \n",
    "v1 = v1 ^ v2  \n",
    "v2 = v1 ^ v2  \n",
    "v1 = v1 ^ v2  \n",
    "print(v1)\n",
    "\n",
    "What is the result of running the above code?\n",
    "\n",
    "Options:\n",
    "A) 0\n",
    "B) 1\n",
    "C) Error\n",
    "D) Undefined\n",
    "\n",
    "Answer: A) 0 — The XOR swap algorithm swaps v1 and v2, resulting in v1 being 0."
   ]
  },
  {
   "cell_type": "raw",
   "id": "1f55af73-0e00-47ac-8dfe-550275e725ea",
   "metadata": {},
   "source": [
    "Question 35: Consider the code\n",
    "\n",
    "count=input(\"Enter the number of customers of the bank:\")\n",
    "#Line-1\n",
    "print(output)\n",
    "\n",
    "What code inserted at Line-1 will print 20 to the console if we pass 15 as count value from the console?\n",
    "\n",
    "Options:\n",
    "a) output = int(count) + 5\n",
    "b) output = str(count) + 5\n",
    "c) output = count + 5\n",
    "d) output = float(count) + 5\n",
    "\n",
    "Answer:\n",
    "a) output = int(count) + 5\n",
    "Justification: Converting count to int ensures numerical addition, yielding 20 when 15 is entered.\n"
   ]
  },
  {
   "cell_type": "raw",
   "id": "617b3455-6076-4a49-b002-fc465cb238ac",
   "metadata": {},
   "source": [
    "Question 36: Conside the code\n",
    "x='10'\n",
    "y='20'\n",
    "The type of x+y?\n",
    "\n",
    "Options:\n",
    "a) float\n",
    "b) complex\n",
    "c) str \n",
    "d) int\n",
    "\n",
    "Answer:\n",
    "c) str, because both x and y are strings, and concatenating them results in a string."
   ]
  },
  {
   "cell_type": "raw",
   "id": "45fcb4b2-cc63-4410-85cc-f44d3c41b8bc",
   "metadata": {},
   "source": [
    "Question 37: Which of the following string declarations spans more than one line and considers whitespace properly when the string is printed to the console?\n",
    "\n",
    "Options: \n",
    "a. S1='Bharat\\nSoftware\\nSolutions'\n",
    "b. S1='''Bharat Software Solutions'''\n",
    "c. S1'Bharat Software Solutions\"\n",
    "d. S1=\"Bharat Software Solutions'''\n",
    "\n",
    "Answer:\n",
    "Answer: b. S1='''Bharat Software Solutions'''\n",
    "Justification: The triple quotes (''' or \"\"\") allow for multi-line strings and preserve whitespace as entered."
   ]
  },
  {
   "cell_type": "raw",
   "id": "5c94efcd-4051-43e6-aa4c-1a3436563c94",
   "metadata": {},
   "source": [
    "Question 38: Consider the code:\n",
    "\n",
    "lst = [7, 8, 9]\n",
    "b = lst[:]\n",
    "print(b is lst)\n",
    "print(b == lst)\n",
    "\n",
    "Options: \n",
    "A) True, True\n",
    "B) False, True\n",
    "C) True, False\n",
    "D) False, False\n",
    "\n",
    "Answer:\n",
    "B) False, True\n",
    "Justification: b is 1st returns False because b is a new list created by slicing, while b == 1st returns True because both lists have the same elements."
   ]
  },
  {
   "cell_type": "raw",
   "id": "de8213bb-f105-427c-ba89-b885f68b5f47",
   "metadata": {},
   "source": [
    "Question 39: Which of the following statements are valid?\n",
    "\n",
    "A) The followng expression evaluates to 12 b=False+5-True+35//4\n",
    "\n",
    "B) S=\"Sachin Tendulkar is cricket's great player\"\n",
    "\n",
    "C) It causes error because we cannot use double quotes and single quotes simultaneously\n",
    "\n",
    "D) The following line will print result:4.5\n",
    "   print('result:',(7/2)+(False or True)+(9%3))\n",
    "\n",
    "E) result=456+456.0\n",
    "   type of result is int\n",
    "\n",
    "Answers\n",
    "A) Valid. The expression evaluates as False (0) + 5 - True (1) + 35 // 4 (8) = 0 + 5 - 1 + 8 = 12.\n",
    "\n",
    "B) Valid. Single quotes can be used inside double quotes without issues.\n",
    "\n",
    "D) Valid. The expression evaluates as 3.5 + 1 + 0 = 4.5."
   ]
  },
  {
   "cell_type": "raw",
   "id": "7018b8ff-69b7-408e-9b32-c3148120e4fd",
   "metadata": {},
   "source": [
    "Question 40:\n",
    "We are developing an app in which students will provide college name and city as input. If the student provides college name as BHARATSOFT and city as Pune, then our application has to provide the following greeting message.\n",
    "\n",
    "Welcome to BHARATSOFT in Pune\n",
    "Which of the following code can be used for this requirement?\n",
    "\n",
    "Options:\n",
    "A)\n",
    "college_name = input(\"Enter Your College Name:\")  \n",
    "city = input(\"Enter Your City:\")  \n",
    "print(\"Welcome to () in ().format(college_name, city))  \n",
    "\n",
    "B)\n",
    "college_name = read(\"Enter Your College Name:\")  \n",
    "city = read(\"Enter Your City:\")  \n",
    "print(\"Welcome to () in () format(college_name, city))\n",
    "\n",
    "C)\n",
    "college_name = str('Enter Your College Name:')  \n",
    "city = str(\"Enter Your City:\")  \n",
    "print(\"Welcome to [] in {}\".format(college_name, city))  \n",
    "\n",
    "D)\n",
    "college_name = eval(\"Enter Your College Name:\")  \n",
    "city = eval(\"Enter Your City:\")  \n",
    "print(\"Welcome to in().format(college_name; city))  \n",
    "\n",
    "Answer:\n",
    "Justification: Option A is the correct code because it properly uses the input() function for collecting user inputs and correctly formats the greeting message using .format() method with placeholders {}.\n"
   ]
  }
 ],
 "metadata": {
  "kernelspec": {
   "display_name": "Python 3 (ipykernel)",
   "language": "python",
   "name": "python3"
  },
  "language_info": {
   "codemirror_mode": {
    "name": "ipython",
    "version": 3
   },
   "file_extension": ".py",
   "mimetype": "text/x-python",
   "name": "python",
   "nbconvert_exporter": "python",
   "pygments_lexer": "ipython3",
   "version": "3.12.4"
  }
 },
 "nbformat": 4,
 "nbformat_minor": 5
}
