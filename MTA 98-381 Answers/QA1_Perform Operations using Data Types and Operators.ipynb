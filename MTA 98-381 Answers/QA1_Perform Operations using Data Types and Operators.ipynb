{
 "cells": [
  {
   "cell_type": "code",
   "execution_count": 1,
   "id": "b665baf1-6d34-4a44-8b2f-5df9c4c0f6ec",
   "metadata": {},
   "outputs": [
    {
     "name": "stdout",
     "output_type": "stream",
     "text": [
      "5.0\n"
     ]
    }
   ],
   "source": [
    "# 1. What is result\n",
    "\n",
    "x = 8\n",
    "y = 10\n",
    "\n",
    "result = x//3*3/2+y%2**2\n",
    "print(result)"
   ]
  },
  {
   "cell_type": "code",
   "execution_count": 2,
   "id": "bada7b78-74ba-4c0d-b434-20aa2b621d9a",
   "metadata": {},
   "outputs": [
    {
     "name": "stdout",
     "output_type": "stream",
     "text": [
      "How old were you at the time of joining? 23\n",
      "How old are you Today? 58\n"
     ]
    },
    {
     "name": "stdout",
     "output_type": "stream",
     "text": [
      "Congratulations on 35 Years of Service!\n"
     ]
    }
   ],
   "source": [
    "# # 2\n",
    "start = input('How old were you at the time of joining?')\n",
    "end = input('How old are you Today?')\n",
    "\n",
    "print('Congratulations on '+str(int(end)-int(start))+' Years of Service!')"
   ]
  },
  {
   "cell_type": "code",
   "execution_count": 3,
   "id": "7c6241d7-d393-4e44-bcd5-c1af501448bc",
   "metadata": {},
   "outputs": [
    {
     "name": "stdout",
     "output_type": "stream",
     "text": [
      "RPO\n",
      "CAT\n",
      "CAT\n",
      "CAT\n"
     ]
    }
   ],
   "source": [
    "# 3. Which of the following won't print 'CAT' to the console\n",
    "x = 'ACROTE'\n",
    "y = 'APPLE'\n",
    "z = 'TOMATO'\n",
    "\n",
    "print(x[2]+y[1]+z[1])\n",
    "print(x[-5]+y[0]+z[-2])\n",
    "print(x[1]+y[0]+z[0])\n",
    "print(x[-5]+y[0]+z[0])"
   ]
  },
  {
   "cell_type": "code",
   "execution_count": 4,
   "id": "4842db48-8a4d-4ab8-8b09-744c97f7934b",
   "metadata": {},
   "outputs": [
    {
     "name": "stdout",
     "output_type": "stream",
     "text": [
      "True\n"
     ]
    }
   ],
   "source": [
    "# 4\n",
    "x = 'Durga'\n",
    "y = 'Durga'\n",
    "\n",
    "# result = condition\n",
    "result = x is y\n",
    "print(result)\n",
    "\n",
    "# for which of the following condition True will be printed to the console?\n",
    "# x < y\n",
    "# x != y\n",
    "# x is not y\n",
    "# x is y"
   ]
  },
  {
   "cell_type": "code",
   "execution_count": 5,
   "id": "b5fbf913-93f1-4258-8a81-83f53ece26f1",
   "metadata": {},
   "outputs": [
    {
     "name": "stdout",
     "output_type": "stream",
     "text": [
      "<class 'str'>\n",
      "<class 'float'>\n",
      "<class 'float'>\n"
     ]
    }
   ],
   "source": [
    "# 5.Consider the following code segments:\n",
    "# After excution Code Segment 1, 2 and 3 the result of c1, c2, and c3 are:\n",
    "# Code Segment-1\n",
    "a1 = '10'\n",
    "b1 = 3\n",
    "c1 = a1*b1\n",
    "\n",
    "# Code Segment-2\n",
    "a2 = 10\n",
    "b2 = 3\n",
    "c2 = a2 / b2\n",
    "\n",
    "# Code Segment-3\n",
    "a3 = 2.6\n",
    "b3 = 1\n",
    "c3 = a3 / b3\n",
    "\n",
    "print(type(c1))\n",
    "print(type(c2))\n",
    "print(type(c3))\n",
    "\n",
    "# Ans:- \n",
    "# <class 'str'>    \n",
    "# <class 'float'>\n",
    "# <class 'float'>"
   ]
  },
  {
   "cell_type": "code",
   "execution_count": 6,
   "id": "f79712f6-25cc-48b3-9495-2d70e23435ec",
   "metadata": {},
   "outputs": [
    {
     "name": "stdout",
     "output_type": "stream",
     "text": [
      "3 3.6666666666666665 3 3\n"
     ]
    }
   ],
   "source": [
    "# 6.In which of the following cases we will get the same result\n",
    "13//4\n",
    "11/3\n",
    "3**1\n",
    "23%5\n",
    "\n",
    "print(13//4,11/3,3**1,23%5)\n",
    "\n",
    "# Ans :- first, third and fourth bcz 3, 3.6666666666666665, 3, 3"
   ]
  },
  {
   "cell_type": "code",
   "execution_count": 7,
   "id": "1f3c5ad8-8b23-4858-96e9-a2bd8165ff30",
   "metadata": {
    "scrolled": true
   },
   "outputs": [
    {
     "name": "stdout",
     "output_type": "stream",
     "text": [
      "False\n",
      "True\n"
     ]
    }
   ],
   "source": [
    "# 7.Consider the following lists:\n",
    "\n",
    "n1=[10,20,30,40,50]\n",
    "n2=[10,20,30,40,50]\n",
    "print(n1 is n2)\n",
    "print(n1 == n2)\n",
    "\n",
    "# What is the output?\n",
    "\n",
    "# Ans:- False True, bcz 'is' compare memory location and '==' compare values"
   ]
  },
  {
   "cell_type": "code",
   "execution_count": 8,
   "id": "1f7b170a-b96e-4992-8121-2538e4d9b59f",
   "metadata": {},
   "outputs": [
    {
     "name": "stdout",
     "output_type": "stream",
     "text": [
      "1\n",
      "0\n",
      "7\n",
      "0\n"
     ]
    }
   ],
   "source": [
    "# 8.Consider the python code\n",
    "\n",
    "a = 1\n",
    "b = 3\n",
    "c = 5\n",
    "d = 7\n",
    "\n",
    "# In Which of the following cases the result value is 0?\n",
    "print(a-b//d)\n",
    "print(a**d-1)\n",
    "print(a+b*2)\n",
    "print(a%b-1)\n",
    "\n",
    "# Ans :- Answer 2nd and 4th is correct bcz "
   ]
  },
  {
   "cell_type": "code",
   "execution_count": 9,
   "id": "4e6ff378-c20a-4029-8881-ab22cb4ce017",
   "metadata": {},
   "outputs": [
    {
     "name": "stdout",
     "output_type": "stream",
     "text": [
      "['A', 'B', ' ', 'C', 'D', 'EF']\n"
     ]
    }
   ],
   "source": [
    "# 9.consider the code\n",
    "\n",
    "s = 'AB CD'\n",
    "list = list(s)  \n",
    "list.append('EF')  \n",
    "print(list)  \n",
    "\n",
    "# what is the result\n",
    "# ['A', 'B', 'C', 'D','EF']\n",
    "# ['A', 'B', 'C', 'D','E','F']\n",
    "# ['A','B','','C','D','EF']\n",
    "# ['A', 'B',' ', 'C', 'D', 'EF']\n",
    "# ['A','B',' ', 'C', 'D', 'EF']\n",
    "\n",
    "# Ans:- third ans is correct, if we convert str to list then each element is element including space"
   ]
  },
  {
   "cell_type": "code",
   "execution_count": 10,
   "id": "ef031fe1-bf48-4d7d-b3ea-a8926d0b5780",
   "metadata": {},
   "outputs": [
    {
     "name": "stdout",
     "output_type": "stream",
     "text": [
      "Valid\n"
     ]
    }
   ],
   "source": [
    "# 10.Consider the Python code:\n",
    "\n",
    "a = 5\n",
    "b = 10\n",
    "c = 2\n",
    "d=True\n",
    "\n",
    "x =a+b*c\n",
    "y = a+b/d\n",
    "\n",
    "# if(condition):\n",
    "if(x>y):\n",
    "    print('Valid')\n",
    "else:\n",
    "    print('invalid')\n",
    "\n",
    "# To print 'Valid' to the console, which condition we have t:o take for if statement?\n",
    "# x<=y\n",
    "# x<y\n",
    "# x==y\n",
    "# x>y\n",
    "\n",
    "# Ans:- forth is correct, x=25 and a=15"
   ]
  },
  {
   "cell_type": "code",
   "execution_count": 11,
   "id": "3713a5d3-5bed-40e4-9ec1-83d57c2ae7d4",
   "metadata": {},
   "outputs": [
    {
     "name": "stdout",
     "output_type": "stream",
     "text": [
      "Enter First Number: 4\n",
      "Enter Second Number: 4\n"
     ]
    },
    {
     "name": "stdout",
     "output_type": "stream",
     "text": [
      "The Result:8\n"
     ]
    }
   ],
   "source": [
    "# 11.You are writing a Python program to read two int values from the keyboard and print the sum.\n",
    "\n",
    "x=input('Enter First Number:')\n",
    "y=input('Enter Second Number:')\n",
    "# Line-1\n",
    "\n",
    "# Which of the following code we have to write at Line-1 to print sum of given numbers?\n",
    "\n",
    "# print('The Result:' + (int(y)))\n",
    "print('The Result:' + str(int(x)+int(y)))\n",
    "# print('The Result:' + str(int(x+y)))\n",
    "# print('The Result:' + (int(x)+int(y)))\n",
    "\n",
    "# Ans:- The second option is correct because the number is initially entered as a string. To perform addition, it needs to be converted into an integer format. However, since we cannot directly concatenate an integer with a string, the final result must be converted back to a string format for proper concatenation."
   ]
  },
  {
   "cell_type": "raw",
   "id": "fb621125-20d3-4178-a907-dc76b4ee190e",
   "metadata": {},
   "source": [
    "12.Consider the expession:\n",
    "\n",
    "result=a-b*c+d\n",
    "\n",
    "Which of the following are valid?\n",
    "\n",
    "First a-b will be evaluated followed by multiplication and addition \n",
    "First b*c will be evaluated followed by addition and subtraction\n",
    "The above expession is equivalent to a-(b*c)+d\n",
    "First b*c will be evaluated followed by subtraction and addition\n",
    "\n",
    "Ans:- third and fourth is correct bcz multiplication have more precedence than addition and subtraction, addition and subtraction have same precedence"
   ]
  },
  {
   "cell_type": "raw",
   "id": "6408b6d4-95ad-4f70-ae8b-4d20a62e55c0",
   "metadata": {},
   "source": [
    "13.Consider the following python code:\n",
    "\n",
    "weight=62.4\n",
    "zip='80098\n",
    "value=+23E4\n",
    "\n",
    "The types of weight, zip and value variables respectively:\n",
    "\n",
    "double, str, float\n",
    "int, str, float\n",
    "float, str, float\n",
    "float, str, str\n",
    "\n",
    "Ans:- Ans 3rd is correct bcz, the type of +23E4 will be float, because scientific notation is typically used to represent floating-point numbers."
   ]
  },
  {
   "cell_type": "code",
   "execution_count": 12,
   "id": "0a2962aa-e442-4a0f-821d-b5216b602c94",
   "metadata": {},
   "outputs": [],
   "source": [
    "# 14.You are writing a Python program. You required to handle data types properly.\n",
    "# Consider the code segment:\n",
    "\n",
    "a=10+20\n",
    "b='10'+'20'\n",
    "C='10'*3\n",
    "\n",
    "# Identify the types of a,b and c?\n",
    "\n",
    "# a is of int type, b and c are invalid declarations\n",
    "# a is of int type,b is of str type and c is of int type\n",
    "# a is of int type,b is of int type and cis of int type\n",
    "# a is of int type o is of str type and t is of str type\n",
    "\n",
    "# Ans:- fourth is correct"
   ]
  },
  {
   "cell_type": "code",
   "execution_count": 13,
   "id": "b643e689-94f1-4057-bf14-8900713031d7",
   "metadata": {},
   "outputs": [
    {
     "data": {
      "text/plain": [
       "True"
      ]
     },
     "execution_count": 13,
     "metadata": {},
     "output_type": "execute_result"
    }
   ],
   "source": [
    "# 15.You have the following code:\n",
    "a=bool([False])\n",
    "b=bool(3)\n",
    "c=bool(\"\")\n",
    "d=bool(' ')\n",
    "\n",
    "# Which of the variables will represent False:\n",
    "c\n",
    "d\n",
    "b\n",
    "a\n",
    "\n",
    "# Ans:- first option (c) is correct. because argument is empty string, so it represent False"
   ]
  },
  {
   "cell_type": "code",
   "execution_count": 14,
   "id": "4253cb24-e356-464b-ba89-b22889fed16e",
   "metadata": {},
   "outputs": [
    {
     "name": "stdout",
     "output_type": "stream",
     "text": [
      "17\n"
     ]
    }
   ],
   "source": [
    "# 16.Consider the following expression\n",
    "result=(2*(3+4)**2-(3**3)*3)\n",
    "\n",
    "# What is result value?\n",
    "# 17\n",
    "# 18\n",
    "# 19\n",
    "# 16\n",
    "print(result)\n",
    "# Ans:- First ans is correct  bcz precedence is Parenthesis, Exponent, Multiplication and substraction "
   ]
  },
  {
   "cell_type": "code",
   "execution_count": 15,
   "id": "e738be9b-8474-4702-a682-312a59ef82b5",
   "metadata": {},
   "outputs": [],
   "source": [
    "# 17.Consider the code\n",
    "\n",
    "a=2\n",
    "a+= 1\n",
    "#Line-1\n",
    "\n",
    "# To make a value as 9, which expression required to place at Line-1\n",
    "# a**=2\n",
    "# a-2\n",
    "# a+2\n",
    "# a=2\n",
    "\n",
    "# Ans:- first option is correct bcz a=2, a=a+1->3, a=a**"
   ]
  },
  {
   "cell_type": "code",
   "execution_count": 16,
   "id": "9183aa39-e447-4a70-838b-2919f598ce22",
   "metadata": {},
   "outputs": [],
   "source": [
    "# 18.Which variables represent True?\n",
    "a=bool(0)\n",
    "b=bool(3)\n",
    "c=bool(0.5)\n",
    "d=bool(0.0)\n",
    "\n",
    "# a,b\n",
    "# All Variables\n",
    "# d,a\n",
    "# b,c\n",
    "# c,d\n",
    "\n",
    "# Ans:- third ans is correct (b, c), In above cases, zero treated as false and non-zero trated as True"
   ]
  },
  {
   "cell_type": "code",
   "execution_count": 17,
   "id": "1101eb91-d246-45d3-bc74-c60d70532da8",
   "metadata": {},
   "outputs": [
    {
     "name": "stdout",
     "output_type": "stream",
     "text": [
      "3.5\n",
      "3\n",
      "3\n"
     ]
    }
   ],
   "source": [
    "# 19.Consider the code:\n",
    "\n",
    "a=21\n",
    "b=6\n",
    "\n",
    "print(a/b)\n",
    "print(a//b)\n",
    "print(a%b)\n",
    "\n",
    "# What is the result?"
   ]
  },
  {
   "cell_type": "code",
   "execution_count": 18,
   "id": "5f79dc0c-c33e-4a9b-ad42-6e70650a09c1",
   "metadata": {},
   "outputs": [
    {
     "data": {
      "text/plain": [
       "'\\nemployees[-3:]\\nemployees[497:]\\nAll the above\\nemployees[497:500]\\n'"
      ]
     },
     "execution_count": 18,
     "metadata": {},
     "output_type": "execute_result"
    }
   ],
   "source": [
    "# 20.You are developing a python application for your company.\n",
    "# A list named employees contains 500 employee names, the last 3 being company management. Which of the following represents only management employees.\n",
    "'''\n",
    "employees[-3:]\n",
    "employees[497:]\n",
    "All the above\n",
    "employees[497:500]\n",
    "'''\n",
    "# Ans:- All the above"
   ]
  },
  {
   "cell_type": "code",
   "execution_count": 19,
   "id": "dc96abad-9cfa-411a-abc0-4ab857af7c75",
   "metadata": {},
   "outputs": [
    {
     "name": "stdout",
     "output_type": "stream",
     "text": [
      "True\n",
      "False\n",
      "False\n",
      "True\n"
     ]
    }
   ],
   "source": [
    "# 21.In which cases True will be printed to the console?\n",
    "subjects=['java', 'python', 'sap']\n",
    "more_subjects=['java', 'python', 'sap']\n",
    "extra_subjects=more_subjects\n",
    "\n",
    "print(extra_subjects is more_subjects)\n",
    "print(subjects is more_subjects)\n",
    "print(subjects is extra_subjects)\n",
    "print(subjects == extra_subjects)\n",
    "\n",
    "# Ans:- first and fourth answer is correct bcz of 'is' use fo reference and '==' use for value comparisson"
   ]
  },
  {
   "cell_type": "raw",
   "id": "5a79bad4-9645-485e-82b9-5ef19da2bd70",
   "metadata": {},
   "source": [
    "22.You are developing a python application for your company.\n",
    "A list named employees contains 500 employee names.\n",
    "In which cases we will get IndexError while accessing employee data?\n",
    "\n",
    "employees [0:501]\n",
    "employees [1:1000]\n",
    "employees[-10:10]\n",
    "None of the above\n",
    "\n",
    "Ans:- forth one is correct, bcz Slice Operator never raise IndexError but gives Empty list some times"
   ]
  },
  {
   "cell_type": "code",
   "execution_count": 20,
   "id": "038c73aa-847e-42d9-abe1-fb4146c4d8db",
   "metadata": {},
   "outputs": [
    {
     "name": "stdout",
     "output_type": "stream",
     "text": [
      "False\n",
      "False\n",
      "True\n",
      "True\n"
     ]
    }
   ],
   "source": [
    "# 23.Consider the lists:\n",
    "\n",
    "numbers=[10,20,30,40,50]\n",
    "alphabets=['a', 'b', 'c', 'd', 'e']\n",
    "print(numbers is alphabets)\n",
    "print(numbers == alphabets)\n",
    "numbers=alphabets\n",
    "print(numbers is alphabets)\n",
    "print(numbers == alphabets)\n",
    "\n",
    "# What is the result?"
   ]
  },
  {
   "cell_type": "code",
   "execution_count": 21,
   "id": "302621cb-ee77-42e8-966e-8ef107f9c107",
   "metadata": {},
   "outputs": [],
   "source": [
    "# 24.Consider the following python code:\n",
    "\n",
    "age=0\n",
    "minor=False\n",
    "name='Durga'\n",
    "\n",
    "# The types of age, minor and name variables respectively:\n",
    "\n",
    "# int, bool, str\n",
    "# int, bool, char\n",
    "# bool, bool, str\n",
    "# float, bool, str\n",
    "\n",
    "# Ans:- First is correct"
   ]
  },
  {
   "cell_type": "code",
   "execution_count": 22,
   "id": "e99f8fb3-d853-4185-826d-b98895c9bc01",
   "metadata": {},
   "outputs": [
    {
     "data": {
      "text/plain": [
       "-4"
      ]
     },
     "execution_count": 22,
     "metadata": {},
     "output_type": "execute_result"
    }
   ],
   "source": [
    "# 25.Which of the following expression will generate max value?\n",
    "\n",
    "8//3*4\n",
    "8%3*4\n",
    "8/3*4\n",
    "8-3*4\n",
    "\n",
    "# 8\n",
    "# 8\n",
    "# 10.666\n",
    "# -4\n",
    "\n",
    "# Ans:- Third one is correct"
   ]
  },
  {
   "cell_type": "code",
   "execution_count": 23,
   "id": "f593f05e-3ddf-40e8-93d2-71286f9574e0",
   "metadata": {},
   "outputs": [
    {
     "name": "stdout",
     "output_type": "stream",
     "text": [
      "2\n"
     ]
    }
   ],
   "source": [
    "# 26.Consider the code:\n",
    "s='Python is easy'\n",
    "s1=s[6:-4]\n",
    "s2=s1.strip() #Line-1 \n",
    "print(len(s2))\n",
    "\n",
    "# To print 2 as output, which code we have to insert at Line-1\n",
    "# s2=s1.strip()\n",
    "# s2=s1.rstrip()\n",
    "# s2=s1.lstrip()\n",
    "# s2=s1.Instrip()\n",
    "\n",
    "# Ans:- first answer is correct bcz we have to get output as a 2, so we have to remove space of ' is ' from both side"
   ]
  },
  {
   "cell_type": "raw",
   "id": "b096dc47-d5e1-4593-92c3-19486e033504",
   "metadata": {},
   "source": [
    "27.You are developing a python application for your company.\n",
    "A list named employees contains 600 employee names, the last 3 being company management. You need to slice employees to display all employees excluding management. Which two code segments we should use?\n",
    "\n",
    "employees[1:-3]\n",
    "employees[:-3]\n",
    "employees[1:-2]\n",
    "employees[0:-2]\n",
    "employees[0:-3]\n",
    "\n",
    "Ans:-The correct code segments are employees[:-3] and employees[0:-3] because both exclude the last three elements, which represent the company management, while including all other employees."
   ]
  },
  {
   "cell_type": "code",
   "execution_count": 24,
   "id": "a819407d-1a79-4eeb-ba69-efc911eadda0",
   "metadata": {},
   "outputs": [
    {
     "data": {
      "text/plain": [
       "'Mango'"
      ]
     },
     "execution_count": 24,
     "metadata": {},
     "output_type": "execute_result"
    }
   ],
   "source": [
    "# 28.Consider the list:\n",
    "list=['Apple', 'Banana', 'Carrot', 'Mango']\n",
    "# Which of the following are valid ways of accessing 'Mango':\n",
    "\n",
    "# list[0]\n",
    "list[-1]\n",
    "list[3]\n",
    "# list[4]\n",
    "\n",
    "# The valid way to access 'Mango' is list[3], because list indices start at 0 and 3 corresponds to 'Mango'. Other indices are invalid:\n",
    "\n",
    "# list[0] corresponds to 'Apple'\n",
    "# list[-1] corresponds to 'Mango' (negative indexing works from the end)\n",
    "# list[4] is out of range for a list with only 4 elements."
   ]
  },
  {
   "cell_type": "raw",
   "id": "eae8fce8-e224-41c5-b41e-c20f47a63754",
   "metadata": {},
   "source": [
    "29.Which of the following code snippet will produce the output:\n",
    "Boy\n",
    "Cat\n",
    "Dog\n",
    "\n",
    "l=['Apple', 'Boy', 'Cat', 'Dog']\n",
    "for x in l:\n",
    "    print(x)\n",
    "\n",
    "l=['Apple', 'Boy', 'Cat', 'Dog']\n",
    "for x in l:\n",
    "    if len(x) !=3:\n",
    "        print(x)\n",
    "        \n",
    "l=['Apple', 'Boy', 'Cat', 'Dog']\n",
    "for x in l:\n",
    "    if len(x)==3:\n",
    "        print(x)\n",
    "\n",
    "l=['Apple', 'Boy', 'Cat', 'Dog']\n",
    "l1=1[1:]\n",
    "for x in 11:\n",
    "    print(x)\n",
    "\n",
    "Ans:- Third and fourth\n",
    "The condition if len(x) == 3 filters and prints the strings that have a length of 3 (i.e., \"Boy\", \"Cat\", \"Dog\").\n",
    "The line l1 = l[1:] slices the list l starting from the second element ('Boy') to the end."
   ]
  },
  {
   "cell_type": "code",
   "execution_count": 25,
   "id": "35494b27-154e-4c15-914b-6637dfcd8701",
   "metadata": {},
   "outputs": [
    {
     "name": "stdout",
     "output_type": "stream",
     "text": [
      "3.0\n"
     ]
    },
    {
     "data": {
      "text/plain": [
       "0"
      ]
     },
     "execution_count": 25,
     "metadata": {},
     "output_type": "execute_result"
    }
   ],
   "source": [
    "# 30.Consider the code\n",
    "a = 15\n",
    "b = 5\n",
    "print (a / b)\n",
    "\n",
    "# What is the result?\n",
    "0.0\n",
    "3.0\n",
    "3\n",
    "0\n",
    "\n",
    "# Ans:3.0"
   ]
  },
  {
   "cell_type": "raw",
   "id": "3d3ff56a-3f3d-4274-9c64-c5a63753ad87",
   "metadata": {},
   "source": [
    "31.You are developing a python application for your company.\n",
    "A list named employees contains 500 employee names.\n",
    "In which cases we will get IndexError while accessing employee names?\n",
    "\n",
    "None of the above\n",
    "employees [500]\n",
    "employees[0]\n",
    "employees[-11]\n",
    "\n",
    "Ans:second is correct bcz of out of range index error"
   ]
  },
  {
   "cell_type": "code",
   "execution_count": 26,
   "id": "bfb44336-fe90-4da3-a352-df2d37435de5",
   "metadata": {},
   "outputs": [
    {
     "data": {
      "text/plain": [
       "-4"
      ]
     },
     "execution_count": 26,
     "metadata": {},
     "output_type": "execute_result"
    }
   ],
   "source": [
    "# 32.Consider the code\n",
    "a = 1\n",
    "b = 2\n",
    "c = 4\n",
    "d = 6\n",
    "\n",
    "# Which of the following expression results -4?\n",
    "(a+b)//c*d\n",
    "(b+c)//a%d\n",
    "(a+b)//c%d\n",
    "(a+b)//d-c\n",
    "\n",
    "# Ans:- forth is correct bcz (1+2)//6−4=3//6−4=0−4=−4"
   ]
  },
  {
   "cell_type": "raw",
   "id": "dec2e5a4-f695-41ed-93ff-1bb2846bac44",
   "metadata": {},
   "source": [
    "# 33.Consider the code:\n",
    "s='Python is easy\n",
    "s1=s[-7:]\n",
    "s2=s[-4:]\n",
    "print(s1+s2)\n",
    "# What is the result?\n",
    "\n",
    "is easyeasy\n",
    "s easyeasy\n",
    "iseasyeasy\n",
    "is easy easy\n",
    "\n",
    "# Ans:- The result is is easyeasy because s1 = s[-7:] gives 'is easy' and s2 = s[-4:] gives 'easy', and their concatenation results in 'is easyeasy'."
   ]
  },
  {
   "cell_type": "raw",
   "id": "168aff7d-8ebe-4cf6-8f99-2a4835b2af9d",
   "metadata": {},
   "source": [
    "34.Which of the following is valid python operator precedence order?\n",
    "\n",
    "Exponents\n",
    "Parenthesis\n",
    "Unary Positive, Negative and Not\n",
    "Multiplication and Division\n",
    "Addition and Subtraction\n",
    "And\n",
    "\n",
    "Exponents\n",
    "Unary Positive, Negative and Not\n",
    "Multiplication and Division\n",
    "Addition and Subtraction\n",
    "And\n",
    "Parenthesis\n",
    "\n",
    "Parenthesis\n",
    "Exponents\n",
    "Linary Positive, Negative and Not\n",
    "Multiplication and Devision\n",
    "Addition and Subtraction\n",
    "And\n",
    "\n",
    "Parenthesis\n",
    "Exponents\n",
    "Unary Positive, Negative and Not\n",
    "Addition and Subtraction\n",
    "Multiplication and Division\n",
    "And\n",
    "\n",
    "Ans:- forth is correct bcz This follows the standard operator precedence in Python, where parentheses have the highest precedence, followed by exponents, unary operators, arithmetic operations, and logical operations like and."
   ]
  },
  {
   "cell_type": "markdown",
   "id": "1d1c35fc-b250-4314-9c73-8580e10b1dcf",
   "metadata": {},
   "source": [
    "35.You are writing a python program that evaluates an arithmetic expression.\n",
    "The expression is described as b is equals a multiplied by negative one, then raised to the second power, where a is the value which will be input and b is result.\n",
    "\n",
    "a=eval(input('Enter a number for the expression:'))\n",
    "\n",
    "Which of the following is valid expression for the given requirement?\n",
    "\n",
    "b =(a)**-2\n",
    "b =(a-)**2\n",
    "b =-(a)**2\n",
    "b =(-a)**2\n",
    "\n",
    "Ans:- b is equals a multiplied negative one, then raised to the second power"
   ]
  },
  {
   "cell_type": "code",
   "execution_count": 28,
   "id": "60a14cd6-cb45-4ee7-865d-09968d16460a",
   "metadata": {},
   "outputs": [
    {
     "name": "stdout",
     "output_type": "stream",
     "text": [
      "7\n"
     ]
    }
   ],
   "source": [
    "# 36.Consider the following expression\n",
    "result=8//6%5+2**3-2\n",
    "print(result)\n",
    "# What is the result?\n",
    "# 6\n",
    "# 7\n",
    "# 8\n",
    "# 9\n",
    "\n",
    "# Ans:- The res ult is 9 because the expression follows the order of operations: 8//6 = 1, 1%5 = 1, 2**3 = 8, and 1 + 8 - 2 = 9."
   ]
  },
  {
   "cell_type": "code",
   "execution_count": 29,
   "id": "9e1f7930-1fd2-4532-a084-16071697099c",
   "metadata": {},
   "outputs": [
    {
     "name": "stdout",
     "output_type": "stream",
     "text": [
      "11\n"
     ]
    }
   ],
   "source": [
    "# 37.You have the following code:\n",
    "a=3\n",
    "b=5\n",
    "a+=2**3\n",
    "a-=b//2//3\n",
    "print(a)\n",
    "\n",
    "# What is the result?\n",
    "# 11\n",
    "# 12\n",
    "# 13\n",
    "# 10\n",
    "\n",
    "# Ans:-The result is 11 because a += 2**3 gives a = 3 + 8 = 11, and a -= b//2//3 gives a = 11 - (5//2//3) = 11 - 0 = 11."
   ]
  },
  {
   "cell_type": "code",
   "execution_count": 30,
   "id": "754be446-dbcf-4857-8c85-655d0baa4c24",
   "metadata": {},
   "outputs": [],
   "source": [
    "# 38.Consider the following variable declarations:\n",
    "\n",
    "a=bool([])\n",
    "b=bool(())\n",
    "c=bool(range(0))\n",
    "d=bool({})\n",
    "e=bool(set())\n",
    "\n",
    "# Which of the above variables represent True ?\n",
    "\n",
    "# C\n",
    "# None of the variables represents True\n",
    "# All Variables represent True\n",
    "# a,b,cd\n",
    "\n",
    "# Ans:- None of the variables represents True, because all the variables (a, b, c, d, e) are initialized with empty collections (list, tuple, range, dictionary, and set), which are all considered False in a boolean context."
   ]
  },
  {
   "cell_type": "code",
   "execution_count": 31,
   "id": "e9b3b66c-0835-43ba-9d8e-52e2f2ef4ec3",
   "metadata": {},
   "outputs": [
    {
     "name": "stdout",
     "output_type": "stream",
     "text": [
      "20\n",
      "5\n",
      "10\n",
      "10\n"
     ]
    }
   ],
   "source": [
    "# 39.Consider the python code\n",
    "numbers=[10,20,30,40]\n",
    "x=0\n",
    "# In which of the following cases 10 will be printed to the console?\n",
    "\n",
    "for i in (30, 40, 50):\n",
    "    if i in numbers:\n",
    "        x += 10\n",
    "print(x)\n",
    "\n",
    "x = 0  \n",
    "for i in (30, 40, 50):\n",
    "    if i not in numbers:\n",
    "        x += 5\n",
    "print(x)\n",
    "\n",
    "x = 0  \n",
    "for i in (30, 40, 50):\n",
    "    if i in numbers:\n",
    "        x += 5\n",
    "print(x)\n",
    "\n",
    "x = 0  \n",
    "for i in (30, 40, 50):\n",
    "    if i not in numbers:\n",
    "        x += 10\n",
    "print(x)\n",
    "\n",
    "# Ans:- 20, 5, 10, 10, so 3rd and 4th is correct"
   ]
  },
  {
   "cell_type": "code",
   "execution_count": 32,
   "id": "04593647-58a3-45fe-b398-884fe358bc44",
   "metadata": {},
   "outputs": [
    {
     "name": "stdout",
     "output_type": "stream",
     "text": [
      "False\n",
      "True\n",
      "True\n",
      "True\n"
     ]
    }
   ],
   "source": [
    "# 40.consider the following list\n",
    "\n",
    "n1=[10, 20, 30, 40, 50]\n",
    "n2=[10, 20, 30, 40, 50]\n",
    "print(n1 is n2)\n",
    "print(n1 == n2)\n",
    "n1=n2\n",
    "print(n1 is n2)\n",
    "print(n1 == n2)"
   ]
  },
  {
   "cell_type": "code",
   "execution_count": null,
   "id": "bde43c12-a1a0-44c0-b2cb-ca6aee3acfdf",
   "metadata": {},
   "outputs": [],
   "source": []
  },
  {
   "cell_type": "code",
   "execution_count": null,
   "id": "cf85c479-8d19-4cb7-8a90-c6d02f9e7168",
   "metadata": {},
   "outputs": [],
   "source": []
  }
 ],
 "metadata": {
  "kernelspec": {
   "display_name": "Python 3 (ipykernel)",
   "language": "python",
   "name": "python3"
  },
  "language_info": {
   "codemirror_mode": {
    "name": "ipython",
    "version": 3
   },
   "file_extension": ".py",
   "mimetype": "text/x-python",
   "name": "python",
   "nbconvert_exporter": "python",
   "pygments_lexer": "ipython3",
   "version": "3.12.4"
  }
 },
 "nbformat": 4,
 "nbformat_minor": 5
}
